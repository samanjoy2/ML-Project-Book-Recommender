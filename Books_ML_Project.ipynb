{
 "cells": [
  {
   "cell_type": "markdown",
   "id": "7d9c2a73",
   "metadata": {},
   "source": [
    "# Libraries"
   ]
  },
  {
   "cell_type": "code",
   "execution_count": 1,
   "id": "d393c731",
   "metadata": {},
   "outputs": [],
   "source": [
    "import numpy as np\n",
    "import pandas as pd\n",
    "import ast\n",
    "import difflib\n",
    "import nltk\n",
    "from sklearn.feature_extraction.text import TfidfVectorizer\n",
    "from sklearn.metrics.pairwise import cosine_similarity\n",
    "from nltk.corpus import stopwords\n",
    "import pickle\n",
    "import requests\n",
    "from bs4 import BeautifulSoup"
   ]
  },
  {
   "cell_type": "markdown",
   "id": "4aaf596c",
   "metadata": {},
   "source": [
    "# Making the DataFrame with CSV Files"
   ]
  },
  {
   "cell_type": "code",
   "execution_count": 2,
   "id": "ba59c78f",
   "metadata": {},
   "outputs": [],
   "source": [
    "# books = pd.concat(\n",
    "#     map(pd.read_csv, ['Datasets/sf_aliens.csv', 'Datasets/sf_alternate_history.csv',\n",
    "#                      'Datasets/sf_alternate_universe.csv', 'Datasets/sf_apocalyptic.csv',\n",
    "#                      'Datasets/sf_cyberpunk.csv','Datasets/sf_dystopia.csv',\n",
    "#                      'Datasets/sf_hard.csv','Datasets/sf_military.csv',\n",
    "#                      'Datasets/sf_robots.csv','Datasets/sf_space_opera.csv',\n",
    "#                      'Datasets/sf_steampunk.csv', 'Datasets/sf_time_travel.csv']), ignore_index=True)"
   ]
  },
  {
   "cell_type": "code",
   "execution_count": 3,
   "id": "718a0c2c",
   "metadata": {},
   "outputs": [],
   "source": [
    "books = pd.concat(\n",
    "    map(pd.read_csv, ['Datasets/sf_aliens.csv']), ignore_index=True)"
   ]
  },
  {
   "cell_type": "code",
   "execution_count": 5,
   "id": "ae27291c",
   "metadata": {},
   "outputs": [
    {
     "name": "stdout",
     "output_type": "stream",
     "text": [
      "<class 'pandas.core.frame.DataFrame'>\n",
      "RangeIndex: 1250 entries, 0 to 1249\n",
      "Data columns (total 11 columns):\n",
      " #   Column               Non-Null Count  Dtype  \n",
      "---  ------               --------------  -----  \n",
      " 0   Book_Title           1250 non-null   object \n",
      " 1   Original_Book_Title  1250 non-null   object \n",
      " 2   Author_Name          1250 non-null   object \n",
      " 3   Edition_Language     1250 non-null   object \n",
      " 4   Rating_score         1250 non-null   float64\n",
      " 5   Rating_votes         1250 non-null   int64  \n",
      " 6   Review_number        1250 non-null   int64  \n",
      " 7   Book_Description     1249 non-null   object \n",
      " 8   Year_published       1250 non-null   int64  \n",
      " 9   Genres               1250 non-null   object \n",
      " 10  url                  1250 non-null   object \n",
      "dtypes: float64(1), int64(3), object(7)\n",
      "memory usage: 107.5+ KB\n"
     ]
    }
   ],
   "source": [
    "books.info()"
   ]
  },
  {
   "cell_type": "code",
   "execution_count": 6,
   "id": "56d36b05",
   "metadata": {},
   "outputs": [
    {
     "data": {
      "text/html": [
       "<div>\n",
       "<style scoped>\n",
       "    .dataframe tbody tr th:only-of-type {\n",
       "        vertical-align: middle;\n",
       "    }\n",
       "\n",
       "    .dataframe tbody tr th {\n",
       "        vertical-align: top;\n",
       "    }\n",
       "\n",
       "    .dataframe thead th {\n",
       "        text-align: right;\n",
       "    }\n",
       "</style>\n",
       "<table border=\"1\" class=\"dataframe\">\n",
       "  <thead>\n",
       "    <tr style=\"text-align: right;\">\n",
       "      <th></th>\n",
       "      <th>Book_Title</th>\n",
       "      <th>Original_Book_Title</th>\n",
       "      <th>Author_Name</th>\n",
       "      <th>Edition_Language</th>\n",
       "      <th>Rating_score</th>\n",
       "      <th>Rating_votes</th>\n",
       "      <th>Review_number</th>\n",
       "      <th>Book_Description</th>\n",
       "      <th>Year_published</th>\n",
       "      <th>Genres</th>\n",
       "      <th>url</th>\n",
       "    </tr>\n",
       "  </thead>\n",
       "  <tbody>\n",
       "    <tr>\n",
       "      <th>0</th>\n",
       "      <td>Obsidian</td>\n",
       "      <td>Obsidian</td>\n",
       "      <td>Jennifer L. Armentrout</td>\n",
       "      <td>English</td>\n",
       "      <td>4.17</td>\n",
       "      <td>236780</td>\n",
       "      <td>18161</td>\n",
       "      <td>Starting over sucks.When we moved to West Virg...</td>\n",
       "      <td>2011</td>\n",
       "      <td>{'Young Adult': 3439, 'Fantasy (Paranormal) ':...</td>\n",
       "      <td>https://www.goodreads.com/book/show/12578077-o...</td>\n",
       "    </tr>\n",
       "    <tr>\n",
       "      <th>1</th>\n",
       "      <td>Onyx</td>\n",
       "      <td>Onyx</td>\n",
       "      <td>Jennifer L. Armentrout</td>\n",
       "      <td>English</td>\n",
       "      <td>4.27</td>\n",
       "      <td>153429</td>\n",
       "      <td>10497</td>\n",
       "      <td>BEING CONNECTED TO DAEMON BLACK SUCKS… Thanks ...</td>\n",
       "      <td>2012</td>\n",
       "      <td>{'Young Adult': 2271, 'Fantasy (Paranormal) ':...</td>\n",
       "      <td>https://www.goodreads.com/book/show/13047090-onyx</td>\n",
       "    </tr>\n",
       "    <tr>\n",
       "      <th>2</th>\n",
       "      <td>The 5th Wave</td>\n",
       "      <td>The 5th Wave</td>\n",
       "      <td>Rick Yancey</td>\n",
       "      <td>English</td>\n",
       "      <td>4.03</td>\n",
       "      <td>400600</td>\n",
       "      <td>29990</td>\n",
       "      <td>After the 1st wave, only darkness remains. Aft...</td>\n",
       "      <td>2013</td>\n",
       "      <td>{'Young Adult': 5436, 'Science Fiction': 3327,...</td>\n",
       "      <td>https://www.goodreads.com/book/show/16101128-t...</td>\n",
       "    </tr>\n",
       "    <tr>\n",
       "      <th>3</th>\n",
       "      <td>The Host</td>\n",
       "      <td>The Host</td>\n",
       "      <td>Stephenie Meyer</td>\n",
       "      <td>English</td>\n",
       "      <td>3.84</td>\n",
       "      <td>915026</td>\n",
       "      <td>41673</td>\n",
       "      <td>Melanie Stryder refuses to fade away. The eart...</td>\n",
       "      <td>2008</td>\n",
       "      <td>{'Young Adult': 4529, 'Science Fiction': 4285,...</td>\n",
       "      <td>https://www.goodreads.com/book/show/1656001.Th...</td>\n",
       "    </tr>\n",
       "    <tr>\n",
       "      <th>4</th>\n",
       "      <td>Opal</td>\n",
       "      <td>Opal</td>\n",
       "      <td>Jennifer L. Armentrout</td>\n",
       "      <td>None</td>\n",
       "      <td>4.27</td>\n",
       "      <td>129006</td>\n",
       "      <td>9463</td>\n",
       "      <td>No one is like Daemon Black.When he set out to...</td>\n",
       "      <td>2012</td>\n",
       "      <td>{'Young Adult': 1855, 'Fantasy (Paranormal) ':...</td>\n",
       "      <td>https://www.goodreads.com/book/show/13362536-opal</td>\n",
       "    </tr>\n",
       "    <tr>\n",
       "      <th>...</th>\n",
       "      <td>...</td>\n",
       "      <td>...</td>\n",
       "      <td>...</td>\n",
       "      <td>...</td>\n",
       "      <td>...</td>\n",
       "      <td>...</td>\n",
       "      <td>...</td>\n",
       "      <td>...</td>\n",
       "      <td>...</td>\n",
       "      <td>...</td>\n",
       "      <td>...</td>\n",
       "    </tr>\n",
       "    <tr>\n",
       "      <th>1240</th>\n",
       "      <td>Spice ‘n’ Solace</td>\n",
       "      <td>English</td>\n",
       "      <td>K.C. Burn</td>\n",
       "      <td>English</td>\n",
       "      <td>3.74</td>\n",
       "      <td>887</td>\n",
       "      <td>142</td>\n",
       "      <td>The Galactic Alliance’s most important negotia...</td>\n",
       "      <td>2011</td>\n",
       "      <td>{'Romance (M M Romance) ': 105, 'Science Ficti...</td>\n",
       "      <td>https://www.goodreads.com/book/show/10324166-s...</td>\n",
       "    </tr>\n",
       "    <tr>\n",
       "      <th>1241</th>\n",
       "      <td>Enemy Overnight</td>\n",
       "      <td>\\n                  1419922564\\n              ...</td>\n",
       "      <td>Robin L. Rotham</td>\n",
       "      <td>English</td>\n",
       "      <td>3.86</td>\n",
       "      <td>778</td>\n",
       "      <td>41</td>\n",
       "      <td>The last time Jasmine King was aboard the Hept...</td>\n",
       "      <td>2009</td>\n",
       "      <td>{'Erotica (BDSM) ': 21, 'Science Fiction': 21,...</td>\n",
       "      <td>https://www.goodreads.com/book/show/7049022-en...</td>\n",
       "    </tr>\n",
       "    <tr>\n",
       "      <th>1242</th>\n",
       "      <td>The Absolute</td>\n",
       "      <td>The Absolute</td>\n",
       "      <td>K.A. Applegate</td>\n",
       "      <td>English</td>\n",
       "      <td>3.87</td>\n",
       "      <td>1696</td>\n",
       "      <td>55</td>\n",
       "      <td>The Yeerks have taken over units of the Nation...</td>\n",
       "      <td>2001</td>\n",
       "      <td>{'Science Fiction': 62, 'Young Adult': 47, 'Fa...</td>\n",
       "      <td>https://www.goodreads.com/book/show/363390.The...</td>\n",
       "    </tr>\n",
       "    <tr>\n",
       "      <th>1243</th>\n",
       "      <td>The Familiar</td>\n",
       "      <td>The Familiar</td>\n",
       "      <td>K.A. Applegate</td>\n",
       "      <td>English</td>\n",
       "      <td>3.67</td>\n",
       "      <td>1939</td>\n",
       "      <td>67</td>\n",
       "      <td>Jake wakes up one morning to find he is sudden...</td>\n",
       "      <td>2000</td>\n",
       "      <td>{'Science Fiction': 70, 'Young Adult': 55, 'Fi...</td>\n",
       "      <td>https://www.goodreads.com/book/show/363352.The...</td>\n",
       "    </tr>\n",
       "    <tr>\n",
       "      <th>1244</th>\n",
       "      <td>Turning Point</td>\n",
       "      <td>Turning Point (Sholan Alliance, #1)</td>\n",
       "      <td>Lisanne Norman</td>\n",
       "      <td>English</td>\n",
       "      <td>3.90</td>\n",
       "      <td>1155</td>\n",
       "      <td>53</td>\n",
       "      <td>Cut off from Earth by alien conquerors, the hu...</td>\n",
       "      <td>1993</td>\n",
       "      <td>{'Science Fiction': 81, 'Romance': 19, 'Fantas...</td>\n",
       "      <td>https://www.goodreads.com/book/show/148282.Tur...</td>\n",
       "    </tr>\n",
       "  </tbody>\n",
       "</table>\n",
       "<p>1245 rows × 11 columns</p>\n",
       "</div>"
      ],
      "text/plain": [
       "            Book_Title                                Original_Book_Title  \\\n",
       "0             Obsidian                                           Obsidian   \n",
       "1                 Onyx                                               Onyx   \n",
       "2         The 5th Wave                                       The 5th Wave   \n",
       "3             The Host                                           The Host   \n",
       "4                 Opal                                               Opal   \n",
       "...                ...                                                ...   \n",
       "1240  Spice ‘n’ Solace                                            English   \n",
       "1241   Enemy Overnight  \\n                  1419922564\\n              ...   \n",
       "1242      The Absolute                                       The Absolute   \n",
       "1243      The Familiar                                       The Familiar   \n",
       "1244     Turning Point                Turning Point (Sholan Alliance, #1)   \n",
       "\n",
       "                 Author_Name Edition_Language  Rating_score  Rating_votes  \\\n",
       "0     Jennifer L. Armentrout          English          4.17        236780   \n",
       "1     Jennifer L. Armentrout          English          4.27        153429   \n",
       "2                Rick Yancey          English          4.03        400600   \n",
       "3            Stephenie Meyer          English          3.84        915026   \n",
       "4     Jennifer L. Armentrout             None          4.27        129006   \n",
       "...                      ...              ...           ...           ...   \n",
       "1240               K.C. Burn          English          3.74           887   \n",
       "1241         Robin L. Rotham          English          3.86           778   \n",
       "1242          K.A. Applegate          English          3.87          1696   \n",
       "1243          K.A. Applegate          English          3.67          1939   \n",
       "1244          Lisanne Norman          English          3.90          1155   \n",
       "\n",
       "      Review_number                                   Book_Description  \\\n",
       "0             18161  Starting over sucks.When we moved to West Virg...   \n",
       "1             10497  BEING CONNECTED TO DAEMON BLACK SUCKS… Thanks ...   \n",
       "2             29990  After the 1st wave, only darkness remains. Aft...   \n",
       "3             41673  Melanie Stryder refuses to fade away. The eart...   \n",
       "4              9463  No one is like Daemon Black.When he set out to...   \n",
       "...             ...                                                ...   \n",
       "1240            142  The Galactic Alliance’s most important negotia...   \n",
       "1241             41  The last time Jasmine King was aboard the Hept...   \n",
       "1242             55  The Yeerks have taken over units of the Nation...   \n",
       "1243             67  Jake wakes up one morning to find he is sudden...   \n",
       "1244             53  Cut off from Earth by alien conquerors, the hu...   \n",
       "\n",
       "      Year_published                                             Genres  \\\n",
       "0               2011  {'Young Adult': 3439, 'Fantasy (Paranormal) ':...   \n",
       "1               2012  {'Young Adult': 2271, 'Fantasy (Paranormal) ':...   \n",
       "2               2013  {'Young Adult': 5436, 'Science Fiction': 3327,...   \n",
       "3               2008  {'Young Adult': 4529, 'Science Fiction': 4285,...   \n",
       "4               2012  {'Young Adult': 1855, 'Fantasy (Paranormal) ':...   \n",
       "...              ...                                                ...   \n",
       "1240            2011  {'Romance (M M Romance) ': 105, 'Science Ficti...   \n",
       "1241            2009  {'Erotica (BDSM) ': 21, 'Science Fiction': 21,...   \n",
       "1242            2001  {'Science Fiction': 62, 'Young Adult': 47, 'Fa...   \n",
       "1243            2000  {'Science Fiction': 70, 'Young Adult': 55, 'Fi...   \n",
       "1244            1993  {'Science Fiction': 81, 'Romance': 19, 'Fantas...   \n",
       "\n",
       "                                                    url  \n",
       "0     https://www.goodreads.com/book/show/12578077-o...  \n",
       "1     https://www.goodreads.com/book/show/13047090-onyx  \n",
       "2     https://www.goodreads.com/book/show/16101128-t...  \n",
       "3     https://www.goodreads.com/book/show/1656001.Th...  \n",
       "4     https://www.goodreads.com/book/show/13362536-opal  \n",
       "...                                                 ...  \n",
       "1240  https://www.goodreads.com/book/show/10324166-s...  \n",
       "1241  https://www.goodreads.com/book/show/7049022-en...  \n",
       "1242  https://www.goodreads.com/book/show/363390.The...  \n",
       "1243  https://www.goodreads.com/book/show/363352.The...  \n",
       "1244  https://www.goodreads.com/book/show/148282.Tur...  \n",
       "\n",
       "[1245 rows x 11 columns]"
      ]
     },
     "execution_count": 6,
     "metadata": {},
     "output_type": "execute_result"
    }
   ],
   "source": [
    "books.head(-5)"
   ]
  },
  {
   "cell_type": "markdown",
   "id": "9a4eca75",
   "metadata": {},
   "source": [
    "# Removing Null and Dupliactes"
   ]
  },
  {
   "cell_type": "code",
   "execution_count": 7,
   "id": "ef39050c",
   "metadata": {},
   "outputs": [
    {
     "data": {
      "text/plain": [
       "Book_Title             0\n",
       "Original_Book_Title    0\n",
       "Author_Name            0\n",
       "Edition_Language       0\n",
       "Rating_score           0\n",
       "Rating_votes           0\n",
       "Review_number          0\n",
       "Book_Description       1\n",
       "Year_published         0\n",
       "Genres                 0\n",
       "url                    0\n",
       "dtype: int64"
      ]
     },
     "execution_count": 7,
     "metadata": {},
     "output_type": "execute_result"
    }
   ],
   "source": [
    "books.isnull().sum()"
   ]
  },
  {
   "cell_type": "code",
   "execution_count": 8,
   "id": "999da482",
   "metadata": {
    "scrolled": true
   },
   "outputs": [
    {
     "data": {
      "text/plain": [
       "0"
      ]
     },
     "execution_count": 8,
     "metadata": {},
     "output_type": "execute_result"
    }
   ],
   "source": [
    "books.duplicated().sum()"
   ]
  },
  {
   "cell_type": "code",
   "execution_count": 9,
   "id": "a8031a28",
   "metadata": {},
   "outputs": [],
   "source": [
    "books.dropna(inplace=True)"
   ]
  },
  {
   "cell_type": "code",
   "execution_count": 10,
   "id": "f5fbafbb",
   "metadata": {},
   "outputs": [
    {
     "data": {
      "text/plain": [
       "Book_Title             0\n",
       "Original_Book_Title    0\n",
       "Author_Name            0\n",
       "Edition_Language       0\n",
       "Rating_score           0\n",
       "Rating_votes           0\n",
       "Review_number          0\n",
       "Book_Description       0\n",
       "Year_published         0\n",
       "Genres                 0\n",
       "url                    0\n",
       "dtype: int64"
      ]
     },
     "execution_count": 10,
     "metadata": {},
     "output_type": "execute_result"
    }
   ],
   "source": [
    "books.isnull().sum()"
   ]
  },
  {
   "cell_type": "code",
   "execution_count": 11,
   "id": "4772547e",
   "metadata": {},
   "outputs": [],
   "source": [
    "books.drop_duplicates(inplace=True)"
   ]
  },
  {
   "cell_type": "code",
   "execution_count": 12,
   "id": "78aad2c2",
   "metadata": {},
   "outputs": [
    {
     "data": {
      "text/plain": [
       "0"
      ]
     },
     "execution_count": 12,
     "metadata": {},
     "output_type": "execute_result"
    }
   ],
   "source": [
    "books.duplicated().sum()"
   ]
  },
  {
   "cell_type": "markdown",
   "id": "d331cb54",
   "metadata": {},
   "source": [
    "# Keeping only the needed Informations"
   ]
  },
  {
   "cell_type": "code",
   "execution_count": 13,
   "id": "8a8b84af",
   "metadata": {},
   "outputs": [],
   "source": [
    "books = books[['Book_Title','Author_Name','Book_Description','Genres','url']]"
   ]
  },
  {
   "cell_type": "code",
   "execution_count": 14,
   "id": "2993a5b9",
   "metadata": {},
   "outputs": [
    {
     "data": {
      "text/plain": [
       "\"{'Young Adult': 3439, 'Fantasy (Paranormal) ': 2652, 'Fantasy': 2545, 'Romance': 2507, 'Science Fiction (Aliens) ': 1648, 'Science Fiction': 1170, 'Romance (Paranormal Romance) ': 849, 'Fantasy (Supernatural) ': 494, 'Fantasy (Urban Fantasy) ': 411, 'Fiction': 347}\""
      ]
     },
     "execution_count": 14,
     "metadata": {},
     "output_type": "execute_result"
    }
   ],
   "source": [
    "books.iloc[0].Genres"
   ]
  },
  {
   "cell_type": "markdown",
   "id": "0443478d",
   "metadata": {},
   "source": [
    "# Removing Null and Dupliactes"
   ]
  },
  {
   "cell_type": "code",
   "execution_count": 15,
   "id": "44d367f7",
   "metadata": {},
   "outputs": [
    {
     "data": {
      "text/plain": [
       "1"
      ]
     },
     "execution_count": 15,
     "metadata": {},
     "output_type": "execute_result"
    }
   ],
   "source": [
    "books.duplicated(subset = ['Book_Title','Author_Name']).sum()"
   ]
  },
  {
   "cell_type": "code",
   "execution_count": 16,
   "id": "670f90b4",
   "metadata": {},
   "outputs": [],
   "source": [
    "books.drop_duplicates(subset = ['Book_Title','Author_Name'], inplace=True)"
   ]
  },
  {
   "cell_type": "code",
   "execution_count": 17,
   "id": "1d2566a9",
   "metadata": {},
   "outputs": [
    {
     "data": {
      "text/plain": [
       "0"
      ]
     },
     "execution_count": 17,
     "metadata": {},
     "output_type": "execute_result"
    }
   ],
   "source": [
    "books.duplicated(subset = ['Book_Title','Author_Name']).sum()"
   ]
  },
  {
   "cell_type": "code",
   "execution_count": 18,
   "id": "b708d284",
   "metadata": {},
   "outputs": [],
   "source": [
    "books = books.reset_index(drop = True)"
   ]
  },
  {
   "cell_type": "code",
   "execution_count": 19,
   "id": "499f540c",
   "metadata": {},
   "outputs": [
    {
     "data": {
      "text/html": [
       "<div>\n",
       "<style scoped>\n",
       "    .dataframe tbody tr th:only-of-type {\n",
       "        vertical-align: middle;\n",
       "    }\n",
       "\n",
       "    .dataframe tbody tr th {\n",
       "        vertical-align: top;\n",
       "    }\n",
       "\n",
       "    .dataframe thead th {\n",
       "        text-align: right;\n",
       "    }\n",
       "</style>\n",
       "<table border=\"1\" class=\"dataframe\">\n",
       "  <thead>\n",
       "    <tr style=\"text-align: right;\">\n",
       "      <th></th>\n",
       "      <th>Book_Title</th>\n",
       "      <th>Author_Name</th>\n",
       "      <th>Book_Description</th>\n",
       "      <th>Genres</th>\n",
       "      <th>url</th>\n",
       "    </tr>\n",
       "  </thead>\n",
       "  <tbody>\n",
       "    <tr>\n",
       "      <th>0</th>\n",
       "      <td>Obsidian</td>\n",
       "      <td>Jennifer L. Armentrout</td>\n",
       "      <td>Starting over sucks.When we moved to West Virg...</td>\n",
       "      <td>{'Young Adult': 3439, 'Fantasy (Paranormal) ':...</td>\n",
       "      <td>https://www.goodreads.com/book/show/12578077-o...</td>\n",
       "    </tr>\n",
       "    <tr>\n",
       "      <th>1</th>\n",
       "      <td>Onyx</td>\n",
       "      <td>Jennifer L. Armentrout</td>\n",
       "      <td>BEING CONNECTED TO DAEMON BLACK SUCKS… Thanks ...</td>\n",
       "      <td>{'Young Adult': 2271, 'Fantasy (Paranormal) ':...</td>\n",
       "      <td>https://www.goodreads.com/book/show/13047090-onyx</td>\n",
       "    </tr>\n",
       "    <tr>\n",
       "      <th>2</th>\n",
       "      <td>The 5th Wave</td>\n",
       "      <td>Rick Yancey</td>\n",
       "      <td>After the 1st wave, only darkness remains. Aft...</td>\n",
       "      <td>{'Young Adult': 5436, 'Science Fiction': 3327,...</td>\n",
       "      <td>https://www.goodreads.com/book/show/16101128-t...</td>\n",
       "    </tr>\n",
       "    <tr>\n",
       "      <th>3</th>\n",
       "      <td>The Host</td>\n",
       "      <td>Stephenie Meyer</td>\n",
       "      <td>Melanie Stryder refuses to fade away. The eart...</td>\n",
       "      <td>{'Young Adult': 4529, 'Science Fiction': 4285,...</td>\n",
       "      <td>https://www.goodreads.com/book/show/1656001.Th...</td>\n",
       "    </tr>\n",
       "    <tr>\n",
       "      <th>4</th>\n",
       "      <td>Opal</td>\n",
       "      <td>Jennifer L. Armentrout</td>\n",
       "      <td>No one is like Daemon Black.When he set out to...</td>\n",
       "      <td>{'Young Adult': 1855, 'Fantasy (Paranormal) ':...</td>\n",
       "      <td>https://www.goodreads.com/book/show/13362536-opal</td>\n",
       "    </tr>\n",
       "    <tr>\n",
       "      <th>...</th>\n",
       "      <td>...</td>\n",
       "      <td>...</td>\n",
       "      <td>...</td>\n",
       "      <td>...</td>\n",
       "      <td>...</td>\n",
       "    </tr>\n",
       "    <tr>\n",
       "      <th>1238</th>\n",
       "      <td>Spice ‘n’ Solace</td>\n",
       "      <td>K.C. Burn</td>\n",
       "      <td>The Galactic Alliance’s most important negotia...</td>\n",
       "      <td>{'Romance (M M Romance) ': 105, 'Science Ficti...</td>\n",
       "      <td>https://www.goodreads.com/book/show/10324166-s...</td>\n",
       "    </tr>\n",
       "    <tr>\n",
       "      <th>1239</th>\n",
       "      <td>Enemy Overnight</td>\n",
       "      <td>Robin L. Rotham</td>\n",
       "      <td>The last time Jasmine King was aboard the Hept...</td>\n",
       "      <td>{'Erotica (BDSM) ': 21, 'Science Fiction': 21,...</td>\n",
       "      <td>https://www.goodreads.com/book/show/7049022-en...</td>\n",
       "    </tr>\n",
       "    <tr>\n",
       "      <th>1240</th>\n",
       "      <td>The Absolute</td>\n",
       "      <td>K.A. Applegate</td>\n",
       "      <td>The Yeerks have taken over units of the Nation...</td>\n",
       "      <td>{'Science Fiction': 62, 'Young Adult': 47, 'Fa...</td>\n",
       "      <td>https://www.goodreads.com/book/show/363390.The...</td>\n",
       "    </tr>\n",
       "    <tr>\n",
       "      <th>1241</th>\n",
       "      <td>The Familiar</td>\n",
       "      <td>K.A. Applegate</td>\n",
       "      <td>Jake wakes up one morning to find he is sudden...</td>\n",
       "      <td>{'Science Fiction': 70, 'Young Adult': 55, 'Fi...</td>\n",
       "      <td>https://www.goodreads.com/book/show/363352.The...</td>\n",
       "    </tr>\n",
       "    <tr>\n",
       "      <th>1242</th>\n",
       "      <td>Turning Point</td>\n",
       "      <td>Lisanne Norman</td>\n",
       "      <td>Cut off from Earth by alien conquerors, the hu...</td>\n",
       "      <td>{'Science Fiction': 81, 'Romance': 19, 'Fantas...</td>\n",
       "      <td>https://www.goodreads.com/book/show/148282.Tur...</td>\n",
       "    </tr>\n",
       "  </tbody>\n",
       "</table>\n",
       "<p>1243 rows × 5 columns</p>\n",
       "</div>"
      ],
      "text/plain": [
       "            Book_Title             Author_Name  \\\n",
       "0             Obsidian  Jennifer L. Armentrout   \n",
       "1                 Onyx  Jennifer L. Armentrout   \n",
       "2         The 5th Wave             Rick Yancey   \n",
       "3             The Host         Stephenie Meyer   \n",
       "4                 Opal  Jennifer L. Armentrout   \n",
       "...                ...                     ...   \n",
       "1238  Spice ‘n’ Solace               K.C. Burn   \n",
       "1239   Enemy Overnight         Robin L. Rotham   \n",
       "1240      The Absolute          K.A. Applegate   \n",
       "1241      The Familiar          K.A. Applegate   \n",
       "1242     Turning Point          Lisanne Norman   \n",
       "\n",
       "                                       Book_Description  \\\n",
       "0     Starting over sucks.When we moved to West Virg...   \n",
       "1     BEING CONNECTED TO DAEMON BLACK SUCKS… Thanks ...   \n",
       "2     After the 1st wave, only darkness remains. Aft...   \n",
       "3     Melanie Stryder refuses to fade away. The eart...   \n",
       "4     No one is like Daemon Black.When he set out to...   \n",
       "...                                                 ...   \n",
       "1238  The Galactic Alliance’s most important negotia...   \n",
       "1239  The last time Jasmine King was aboard the Hept...   \n",
       "1240  The Yeerks have taken over units of the Nation...   \n",
       "1241  Jake wakes up one morning to find he is sudden...   \n",
       "1242  Cut off from Earth by alien conquerors, the hu...   \n",
       "\n",
       "                                                 Genres  \\\n",
       "0     {'Young Adult': 3439, 'Fantasy (Paranormal) ':...   \n",
       "1     {'Young Adult': 2271, 'Fantasy (Paranormal) ':...   \n",
       "2     {'Young Adult': 5436, 'Science Fiction': 3327,...   \n",
       "3     {'Young Adult': 4529, 'Science Fiction': 4285,...   \n",
       "4     {'Young Adult': 1855, 'Fantasy (Paranormal) ':...   \n",
       "...                                                 ...   \n",
       "1238  {'Romance (M M Romance) ': 105, 'Science Ficti...   \n",
       "1239  {'Erotica (BDSM) ': 21, 'Science Fiction': 21,...   \n",
       "1240  {'Science Fiction': 62, 'Young Adult': 47, 'Fa...   \n",
       "1241  {'Science Fiction': 70, 'Young Adult': 55, 'Fi...   \n",
       "1242  {'Science Fiction': 81, 'Romance': 19, 'Fantas...   \n",
       "\n",
       "                                                    url  \n",
       "0     https://www.goodreads.com/book/show/12578077-o...  \n",
       "1     https://www.goodreads.com/book/show/13047090-onyx  \n",
       "2     https://www.goodreads.com/book/show/16101128-t...  \n",
       "3     https://www.goodreads.com/book/show/1656001.Th...  \n",
       "4     https://www.goodreads.com/book/show/13362536-opal  \n",
       "...                                                 ...  \n",
       "1238  https://www.goodreads.com/book/show/10324166-s...  \n",
       "1239  https://www.goodreads.com/book/show/7049022-en...  \n",
       "1240  https://www.goodreads.com/book/show/363390.The...  \n",
       "1241  https://www.goodreads.com/book/show/363352.The...  \n",
       "1242  https://www.goodreads.com/book/show/148282.Tur...  \n",
       "\n",
       "[1243 rows x 5 columns]"
      ]
     },
     "execution_count": 19,
     "metadata": {},
     "output_type": "execute_result"
    }
   ],
   "source": [
    "books.head(-5)"
   ]
  },
  {
   "cell_type": "markdown",
   "id": "b69508e8",
   "metadata": {},
   "source": [
    "# Making Functions to Apply later"
   ]
  },
  {
   "cell_type": "code",
   "execution_count": 20,
   "id": "91f71216",
   "metadata": {},
   "outputs": [],
   "source": [
    "def genres_extract(n):\n",
    "    n = ast.literal_eval(n)\n",
    "    n = list(n.keys())\n",
    "    m = []\n",
    "    for i in n:\n",
    "        i = i.replace(\"(\",\"\")\n",
    "        i = i.replace(\")\",\"\")\n",
    "        i = i.replace(\" \",\"\")\n",
    "        m.append(i)\n",
    "    return m"
   ]
  },
  {
   "cell_type": "code",
   "execution_count": 21,
   "id": "ce4f3b8d",
   "metadata": {},
   "outputs": [],
   "source": [
    "def spl(n):\n",
    "    n = n.replace(\".\",\" \")\n",
    "    n = n.replace(\",\",\" \")\n",
    "    return n.split()"
   ]
  },
  {
   "cell_type": "code",
   "execution_count": 22,
   "id": "e8c0fe52",
   "metadata": {},
   "outputs": [],
   "source": [
    "def auth_spl(n):\n",
    "    n = n.replace(\" \",\"\")\n",
    "    n = n.replace(\".\",\"\")\n",
    "    return n.split()"
   ]
  },
  {
   "cell_type": "code",
   "execution_count": 23,
   "id": "c73dd0f8",
   "metadata": {},
   "outputs": [],
   "source": [
    "def cover_scrape(url):\n",
    "    code = \"\"\n",
    "    for i in url:\n",
    "        if i.isnumeric():\n",
    "            code = code + i\n",
    "        elif code != \"\":\n",
    "            break\n",
    "\n",
    "    response = requests.get(url)\n",
    "    html_page = BeautifulSoup(response.text, 'html.parser')\n",
    "    images = html_page.find_all(\"img\")\n",
    "\n",
    "    for index, image in enumerate(images):\n",
    "        image_url = image.get(\"src\")\n",
    "        if image_url == None:\n",
    "            continue\n",
    "        if code in image_url:\n",
    "            return image_url"
   ]
  },
  {
   "cell_type": "markdown",
   "id": "29a03e4c",
   "metadata": {},
   "source": [
    "# Applying the Functions"
   ]
  },
  {
   "cell_type": "code",
   "execution_count": 24,
   "id": "9acfaf6f",
   "metadata": {},
   "outputs": [],
   "source": [
    "books['Genres'] = books['Genres'].apply(genres_extract)"
   ]
  },
  {
   "cell_type": "code",
   "execution_count": 25,
   "id": "8d4cca96",
   "metadata": {},
   "outputs": [
    {
     "data": {
      "text/html": [
       "<div>\n",
       "<style scoped>\n",
       "    .dataframe tbody tr th:only-of-type {\n",
       "        vertical-align: middle;\n",
       "    }\n",
       "\n",
       "    .dataframe tbody tr th {\n",
       "        vertical-align: top;\n",
       "    }\n",
       "\n",
       "    .dataframe thead th {\n",
       "        text-align: right;\n",
       "    }\n",
       "</style>\n",
       "<table border=\"1\" class=\"dataframe\">\n",
       "  <thead>\n",
       "    <tr style=\"text-align: right;\">\n",
       "      <th></th>\n",
       "      <th>Book_Title</th>\n",
       "      <th>Author_Name</th>\n",
       "      <th>Book_Description</th>\n",
       "      <th>Genres</th>\n",
       "      <th>url</th>\n",
       "    </tr>\n",
       "  </thead>\n",
       "  <tbody>\n",
       "    <tr>\n",
       "      <th>0</th>\n",
       "      <td>Obsidian</td>\n",
       "      <td>Jennifer L. Armentrout</td>\n",
       "      <td>Starting over sucks.When we moved to West Virg...</td>\n",
       "      <td>[YoungAdult, FantasyParanormal, Fantasy, Roman...</td>\n",
       "      <td>https://www.goodreads.com/book/show/12578077-o...</td>\n",
       "    </tr>\n",
       "    <tr>\n",
       "      <th>1</th>\n",
       "      <td>Onyx</td>\n",
       "      <td>Jennifer L. Armentrout</td>\n",
       "      <td>BEING CONNECTED TO DAEMON BLACK SUCKS… Thanks ...</td>\n",
       "      <td>[YoungAdult, FantasyParanormal, Romance, Fanta...</td>\n",
       "      <td>https://www.goodreads.com/book/show/13047090-onyx</td>\n",
       "    </tr>\n",
       "    <tr>\n",
       "      <th>2</th>\n",
       "      <td>The 5th Wave</td>\n",
       "      <td>Rick Yancey</td>\n",
       "      <td>After the 1st wave, only darkness remains. Aft...</td>\n",
       "      <td>[YoungAdult, ScienceFiction, ScienceFictionDys...</td>\n",
       "      <td>https://www.goodreads.com/book/show/16101128-t...</td>\n",
       "    </tr>\n",
       "    <tr>\n",
       "      <th>3</th>\n",
       "      <td>The Host</td>\n",
       "      <td>Stephenie Meyer</td>\n",
       "      <td>Melanie Stryder refuses to fade away. The eart...</td>\n",
       "      <td>[YoungAdult, ScienceFiction, Fantasy, Romance,...</td>\n",
       "      <td>https://www.goodreads.com/book/show/1656001.Th...</td>\n",
       "    </tr>\n",
       "    <tr>\n",
       "      <th>4</th>\n",
       "      <td>Opal</td>\n",
       "      <td>Jennifer L. Armentrout</td>\n",
       "      <td>No one is like Daemon Black.When he set out to...</td>\n",
       "      <td>[YoungAdult, FantasyParanormal, Romance, Fanta...</td>\n",
       "      <td>https://www.goodreads.com/book/show/13362536-opal</td>\n",
       "    </tr>\n",
       "  </tbody>\n",
       "</table>\n",
       "</div>"
      ],
      "text/plain": [
       "     Book_Title             Author_Name  \\\n",
       "0      Obsidian  Jennifer L. Armentrout   \n",
       "1          Onyx  Jennifer L. Armentrout   \n",
       "2  The 5th Wave             Rick Yancey   \n",
       "3      The Host         Stephenie Meyer   \n",
       "4          Opal  Jennifer L. Armentrout   \n",
       "\n",
       "                                    Book_Description  \\\n",
       "0  Starting over sucks.When we moved to West Virg...   \n",
       "1  BEING CONNECTED TO DAEMON BLACK SUCKS… Thanks ...   \n",
       "2  After the 1st wave, only darkness remains. Aft...   \n",
       "3  Melanie Stryder refuses to fade away. The eart...   \n",
       "4  No one is like Daemon Black.When he set out to...   \n",
       "\n",
       "                                              Genres  \\\n",
       "0  [YoungAdult, FantasyParanormal, Fantasy, Roman...   \n",
       "1  [YoungAdult, FantasyParanormal, Romance, Fanta...   \n",
       "2  [YoungAdult, ScienceFiction, ScienceFictionDys...   \n",
       "3  [YoungAdult, ScienceFiction, Fantasy, Romance,...   \n",
       "4  [YoungAdult, FantasyParanormal, Romance, Fanta...   \n",
       "\n",
       "                                                 url  \n",
       "0  https://www.goodreads.com/book/show/12578077-o...  \n",
       "1  https://www.goodreads.com/book/show/13047090-onyx  \n",
       "2  https://www.goodreads.com/book/show/16101128-t...  \n",
       "3  https://www.goodreads.com/book/show/1656001.Th...  \n",
       "4  https://www.goodreads.com/book/show/13362536-opal  "
      ]
     },
     "execution_count": 25,
     "metadata": {},
     "output_type": "execute_result"
    }
   ],
   "source": [
    "books.head()"
   ]
  },
  {
   "cell_type": "code",
   "execution_count": 26,
   "id": "a4cc1f51",
   "metadata": {},
   "outputs": [],
   "source": [
    "books['Book_Description'] = books['Book_Description'].apply(spl)"
   ]
  },
  {
   "cell_type": "code",
   "execution_count": 27,
   "id": "96601f6b",
   "metadata": {
    "scrolled": true
   },
   "outputs": [
    {
     "data": {
      "text/html": [
       "<div>\n",
       "<style scoped>\n",
       "    .dataframe tbody tr th:only-of-type {\n",
       "        vertical-align: middle;\n",
       "    }\n",
       "\n",
       "    .dataframe tbody tr th {\n",
       "        vertical-align: top;\n",
       "    }\n",
       "\n",
       "    .dataframe thead th {\n",
       "        text-align: right;\n",
       "    }\n",
       "</style>\n",
       "<table border=\"1\" class=\"dataframe\">\n",
       "  <thead>\n",
       "    <tr style=\"text-align: right;\">\n",
       "      <th></th>\n",
       "      <th>Book_Title</th>\n",
       "      <th>Author_Name</th>\n",
       "      <th>Book_Description</th>\n",
       "      <th>Genres</th>\n",
       "      <th>url</th>\n",
       "    </tr>\n",
       "  </thead>\n",
       "  <tbody>\n",
       "    <tr>\n",
       "      <th>0</th>\n",
       "      <td>Obsidian</td>\n",
       "      <td>Jennifer L. Armentrout</td>\n",
       "      <td>[Starting, over, sucks, When, we, moved, to, W...</td>\n",
       "      <td>[YoungAdult, FantasyParanormal, Fantasy, Roman...</td>\n",
       "      <td>https://www.goodreads.com/book/show/12578077-o...</td>\n",
       "    </tr>\n",
       "    <tr>\n",
       "      <th>1</th>\n",
       "      <td>Onyx</td>\n",
       "      <td>Jennifer L. Armentrout</td>\n",
       "      <td>[BEING, CONNECTED, TO, DAEMON, BLACK, SUCKS…, ...</td>\n",
       "      <td>[YoungAdult, FantasyParanormal, Romance, Fanta...</td>\n",
       "      <td>https://www.goodreads.com/book/show/13047090-onyx</td>\n",
       "    </tr>\n",
       "    <tr>\n",
       "      <th>2</th>\n",
       "      <td>The 5th Wave</td>\n",
       "      <td>Rick Yancey</td>\n",
       "      <td>[After, the, 1st, wave, only, darkness, remain...</td>\n",
       "      <td>[YoungAdult, ScienceFiction, ScienceFictionDys...</td>\n",
       "      <td>https://www.goodreads.com/book/show/16101128-t...</td>\n",
       "    </tr>\n",
       "    <tr>\n",
       "      <th>3</th>\n",
       "      <td>The Host</td>\n",
       "      <td>Stephenie Meyer</td>\n",
       "      <td>[Melanie, Stryder, refuses, to, fade, away, Th...</td>\n",
       "      <td>[YoungAdult, ScienceFiction, Fantasy, Romance,...</td>\n",
       "      <td>https://www.goodreads.com/book/show/1656001.Th...</td>\n",
       "    </tr>\n",
       "    <tr>\n",
       "      <th>4</th>\n",
       "      <td>Opal</td>\n",
       "      <td>Jennifer L. Armentrout</td>\n",
       "      <td>[No, one, is, like, Daemon, Black, When, he, s...</td>\n",
       "      <td>[YoungAdult, FantasyParanormal, Romance, Fanta...</td>\n",
       "      <td>https://www.goodreads.com/book/show/13362536-opal</td>\n",
       "    </tr>\n",
       "  </tbody>\n",
       "</table>\n",
       "</div>"
      ],
      "text/plain": [
       "     Book_Title             Author_Name  \\\n",
       "0      Obsidian  Jennifer L. Armentrout   \n",
       "1          Onyx  Jennifer L. Armentrout   \n",
       "2  The 5th Wave             Rick Yancey   \n",
       "3      The Host         Stephenie Meyer   \n",
       "4          Opal  Jennifer L. Armentrout   \n",
       "\n",
       "                                    Book_Description  \\\n",
       "0  [Starting, over, sucks, When, we, moved, to, W...   \n",
       "1  [BEING, CONNECTED, TO, DAEMON, BLACK, SUCKS…, ...   \n",
       "2  [After, the, 1st, wave, only, darkness, remain...   \n",
       "3  [Melanie, Stryder, refuses, to, fade, away, Th...   \n",
       "4  [No, one, is, like, Daemon, Black, When, he, s...   \n",
       "\n",
       "                                              Genres  \\\n",
       "0  [YoungAdult, FantasyParanormal, Fantasy, Roman...   \n",
       "1  [YoungAdult, FantasyParanormal, Romance, Fanta...   \n",
       "2  [YoungAdult, ScienceFiction, ScienceFictionDys...   \n",
       "3  [YoungAdult, ScienceFiction, Fantasy, Romance,...   \n",
       "4  [YoungAdult, FantasyParanormal, Romance, Fanta...   \n",
       "\n",
       "                                                 url  \n",
       "0  https://www.goodreads.com/book/show/12578077-o...  \n",
       "1  https://www.goodreads.com/book/show/13047090-onyx  \n",
       "2  https://www.goodreads.com/book/show/16101128-t...  \n",
       "3  https://www.goodreads.com/book/show/1656001.Th...  \n",
       "4  https://www.goodreads.com/book/show/13362536-opal  "
      ]
     },
     "execution_count": 27,
     "metadata": {},
     "output_type": "execute_result"
    }
   ],
   "source": [
    "books.head()"
   ]
  },
  {
   "cell_type": "code",
   "execution_count": 28,
   "id": "9b8e521e",
   "metadata": {},
   "outputs": [],
   "source": [
    "books['Author_Name'] = books['Author_Name'].apply(auth_spl)"
   ]
  },
  {
   "cell_type": "code",
   "execution_count": 29,
   "id": "3237c16b",
   "metadata": {},
   "outputs": [
    {
     "data": {
      "text/html": [
       "<div>\n",
       "<style scoped>\n",
       "    .dataframe tbody tr th:only-of-type {\n",
       "        vertical-align: middle;\n",
       "    }\n",
       "\n",
       "    .dataframe tbody tr th {\n",
       "        vertical-align: top;\n",
       "    }\n",
       "\n",
       "    .dataframe thead th {\n",
       "        text-align: right;\n",
       "    }\n",
       "</style>\n",
       "<table border=\"1\" class=\"dataframe\">\n",
       "  <thead>\n",
       "    <tr style=\"text-align: right;\">\n",
       "      <th></th>\n",
       "      <th>Book_Title</th>\n",
       "      <th>Author_Name</th>\n",
       "      <th>Book_Description</th>\n",
       "      <th>Genres</th>\n",
       "      <th>url</th>\n",
       "    </tr>\n",
       "  </thead>\n",
       "  <tbody>\n",
       "    <tr>\n",
       "      <th>0</th>\n",
       "      <td>Obsidian</td>\n",
       "      <td>[JenniferLArmentrout]</td>\n",
       "      <td>[Starting, over, sucks, When, we, moved, to, W...</td>\n",
       "      <td>[YoungAdult, FantasyParanormal, Fantasy, Roman...</td>\n",
       "      <td>https://www.goodreads.com/book/show/12578077-o...</td>\n",
       "    </tr>\n",
       "    <tr>\n",
       "      <th>1</th>\n",
       "      <td>Onyx</td>\n",
       "      <td>[JenniferLArmentrout]</td>\n",
       "      <td>[BEING, CONNECTED, TO, DAEMON, BLACK, SUCKS…, ...</td>\n",
       "      <td>[YoungAdult, FantasyParanormal, Romance, Fanta...</td>\n",
       "      <td>https://www.goodreads.com/book/show/13047090-onyx</td>\n",
       "    </tr>\n",
       "    <tr>\n",
       "      <th>2</th>\n",
       "      <td>The 5th Wave</td>\n",
       "      <td>[RickYancey]</td>\n",
       "      <td>[After, the, 1st, wave, only, darkness, remain...</td>\n",
       "      <td>[YoungAdult, ScienceFiction, ScienceFictionDys...</td>\n",
       "      <td>https://www.goodreads.com/book/show/16101128-t...</td>\n",
       "    </tr>\n",
       "    <tr>\n",
       "      <th>3</th>\n",
       "      <td>The Host</td>\n",
       "      <td>[StephenieMeyer]</td>\n",
       "      <td>[Melanie, Stryder, refuses, to, fade, away, Th...</td>\n",
       "      <td>[YoungAdult, ScienceFiction, Fantasy, Romance,...</td>\n",
       "      <td>https://www.goodreads.com/book/show/1656001.Th...</td>\n",
       "    </tr>\n",
       "    <tr>\n",
       "      <th>4</th>\n",
       "      <td>Opal</td>\n",
       "      <td>[JenniferLArmentrout]</td>\n",
       "      <td>[No, one, is, like, Daemon, Black, When, he, s...</td>\n",
       "      <td>[YoungAdult, FantasyParanormal, Romance, Fanta...</td>\n",
       "      <td>https://www.goodreads.com/book/show/13362536-opal</td>\n",
       "    </tr>\n",
       "  </tbody>\n",
       "</table>\n",
       "</div>"
      ],
      "text/plain": [
       "     Book_Title            Author_Name  \\\n",
       "0      Obsidian  [JenniferLArmentrout]   \n",
       "1          Onyx  [JenniferLArmentrout]   \n",
       "2  The 5th Wave           [RickYancey]   \n",
       "3      The Host       [StephenieMeyer]   \n",
       "4          Opal  [JenniferLArmentrout]   \n",
       "\n",
       "                                    Book_Description  \\\n",
       "0  [Starting, over, sucks, When, we, moved, to, W...   \n",
       "1  [BEING, CONNECTED, TO, DAEMON, BLACK, SUCKS…, ...   \n",
       "2  [After, the, 1st, wave, only, darkness, remain...   \n",
       "3  [Melanie, Stryder, refuses, to, fade, away, Th...   \n",
       "4  [No, one, is, like, Daemon, Black, When, he, s...   \n",
       "\n",
       "                                              Genres  \\\n",
       "0  [YoungAdult, FantasyParanormal, Fantasy, Roman...   \n",
       "1  [YoungAdult, FantasyParanormal, Romance, Fanta...   \n",
       "2  [YoungAdult, ScienceFiction, ScienceFictionDys...   \n",
       "3  [YoungAdult, ScienceFiction, Fantasy, Romance,...   \n",
       "4  [YoungAdult, FantasyParanormal, Romance, Fanta...   \n",
       "\n",
       "                                                 url  \n",
       "0  https://www.goodreads.com/book/show/12578077-o...  \n",
       "1  https://www.goodreads.com/book/show/13047090-onyx  \n",
       "2  https://www.goodreads.com/book/show/16101128-t...  \n",
       "3  https://www.goodreads.com/book/show/1656001.Th...  \n",
       "4  https://www.goodreads.com/book/show/13362536-opal  "
      ]
     },
     "execution_count": 29,
     "metadata": {},
     "output_type": "execute_result"
    }
   ],
   "source": [
    "books.head()"
   ]
  },
  {
   "cell_type": "markdown",
   "id": "d6ca488e",
   "metadata": {},
   "source": [
    "# Making the \"tags\" Column"
   ]
  },
  {
   "cell_type": "code",
   "execution_count": 30,
   "id": "4f402a07",
   "metadata": {},
   "outputs": [],
   "source": [
    "books['tags'] = books['Author_Name'] + books['Book_Description'] + books['Genres']"
   ]
  },
  {
   "cell_type": "code",
   "execution_count": 31,
   "id": "d6e34e0c",
   "metadata": {},
   "outputs": [
    {
     "data": {
      "text/html": [
       "<div>\n",
       "<style scoped>\n",
       "    .dataframe tbody tr th:only-of-type {\n",
       "        vertical-align: middle;\n",
       "    }\n",
       "\n",
       "    .dataframe tbody tr th {\n",
       "        vertical-align: top;\n",
       "    }\n",
       "\n",
       "    .dataframe thead th {\n",
       "        text-align: right;\n",
       "    }\n",
       "</style>\n",
       "<table border=\"1\" class=\"dataframe\">\n",
       "  <thead>\n",
       "    <tr style=\"text-align: right;\">\n",
       "      <th></th>\n",
       "      <th>Book_Title</th>\n",
       "      <th>Author_Name</th>\n",
       "      <th>Book_Description</th>\n",
       "      <th>Genres</th>\n",
       "      <th>url</th>\n",
       "      <th>tags</th>\n",
       "    </tr>\n",
       "  </thead>\n",
       "  <tbody>\n",
       "    <tr>\n",
       "      <th>0</th>\n",
       "      <td>Obsidian</td>\n",
       "      <td>[JenniferLArmentrout]</td>\n",
       "      <td>[Starting, over, sucks, When, we, moved, to, W...</td>\n",
       "      <td>[YoungAdult, FantasyParanormal, Fantasy, Roman...</td>\n",
       "      <td>https://www.goodreads.com/book/show/12578077-o...</td>\n",
       "      <td>[JenniferLArmentrout, Starting, over, sucks, W...</td>\n",
       "    </tr>\n",
       "    <tr>\n",
       "      <th>1</th>\n",
       "      <td>Onyx</td>\n",
       "      <td>[JenniferLArmentrout]</td>\n",
       "      <td>[BEING, CONNECTED, TO, DAEMON, BLACK, SUCKS…, ...</td>\n",
       "      <td>[YoungAdult, FantasyParanormal, Romance, Fanta...</td>\n",
       "      <td>https://www.goodreads.com/book/show/13047090-onyx</td>\n",
       "      <td>[JenniferLArmentrout, BEING, CONNECTED, TO, DA...</td>\n",
       "    </tr>\n",
       "    <tr>\n",
       "      <th>2</th>\n",
       "      <td>The 5th Wave</td>\n",
       "      <td>[RickYancey]</td>\n",
       "      <td>[After, the, 1st, wave, only, darkness, remain...</td>\n",
       "      <td>[YoungAdult, ScienceFiction, ScienceFictionDys...</td>\n",
       "      <td>https://www.goodreads.com/book/show/16101128-t...</td>\n",
       "      <td>[RickYancey, After, the, 1st, wave, only, dark...</td>\n",
       "    </tr>\n",
       "    <tr>\n",
       "      <th>3</th>\n",
       "      <td>The Host</td>\n",
       "      <td>[StephenieMeyer]</td>\n",
       "      <td>[Melanie, Stryder, refuses, to, fade, away, Th...</td>\n",
       "      <td>[YoungAdult, ScienceFiction, Fantasy, Romance,...</td>\n",
       "      <td>https://www.goodreads.com/book/show/1656001.Th...</td>\n",
       "      <td>[StephenieMeyer, Melanie, Stryder, refuses, to...</td>\n",
       "    </tr>\n",
       "    <tr>\n",
       "      <th>4</th>\n",
       "      <td>Opal</td>\n",
       "      <td>[JenniferLArmentrout]</td>\n",
       "      <td>[No, one, is, like, Daemon, Black, When, he, s...</td>\n",
       "      <td>[YoungAdult, FantasyParanormal, Romance, Fanta...</td>\n",
       "      <td>https://www.goodreads.com/book/show/13362536-opal</td>\n",
       "      <td>[JenniferLArmentrout, No, one, is, like, Daemo...</td>\n",
       "    </tr>\n",
       "  </tbody>\n",
       "</table>\n",
       "</div>"
      ],
      "text/plain": [
       "     Book_Title            Author_Name  \\\n",
       "0      Obsidian  [JenniferLArmentrout]   \n",
       "1          Onyx  [JenniferLArmentrout]   \n",
       "2  The 5th Wave           [RickYancey]   \n",
       "3      The Host       [StephenieMeyer]   \n",
       "4          Opal  [JenniferLArmentrout]   \n",
       "\n",
       "                                    Book_Description  \\\n",
       "0  [Starting, over, sucks, When, we, moved, to, W...   \n",
       "1  [BEING, CONNECTED, TO, DAEMON, BLACK, SUCKS…, ...   \n",
       "2  [After, the, 1st, wave, only, darkness, remain...   \n",
       "3  [Melanie, Stryder, refuses, to, fade, away, Th...   \n",
       "4  [No, one, is, like, Daemon, Black, When, he, s...   \n",
       "\n",
       "                                              Genres  \\\n",
       "0  [YoungAdult, FantasyParanormal, Fantasy, Roman...   \n",
       "1  [YoungAdult, FantasyParanormal, Romance, Fanta...   \n",
       "2  [YoungAdult, ScienceFiction, ScienceFictionDys...   \n",
       "3  [YoungAdult, ScienceFiction, Fantasy, Romance,...   \n",
       "4  [YoungAdult, FantasyParanormal, Romance, Fanta...   \n",
       "\n",
       "                                                 url  \\\n",
       "0  https://www.goodreads.com/book/show/12578077-o...   \n",
       "1  https://www.goodreads.com/book/show/13047090-onyx   \n",
       "2  https://www.goodreads.com/book/show/16101128-t...   \n",
       "3  https://www.goodreads.com/book/show/1656001.Th...   \n",
       "4  https://www.goodreads.com/book/show/13362536-opal   \n",
       "\n",
       "                                                tags  \n",
       "0  [JenniferLArmentrout, Starting, over, sucks, W...  \n",
       "1  [JenniferLArmentrout, BEING, CONNECTED, TO, DA...  \n",
       "2  [RickYancey, After, the, 1st, wave, only, dark...  \n",
       "3  [StephenieMeyer, Melanie, Stryder, refuses, to...  \n",
       "4  [JenniferLArmentrout, No, one, is, like, Daemo...  "
      ]
     },
     "execution_count": 31,
     "metadata": {},
     "output_type": "execute_result"
    }
   ],
   "source": [
    "books.head()"
   ]
  },
  {
   "cell_type": "code",
   "execution_count": 32,
   "id": "e518c5b5",
   "metadata": {},
   "outputs": [],
   "source": [
    "books_data = books[['Book_Title','tags','url']]"
   ]
  },
  {
   "cell_type": "code",
   "execution_count": 33,
   "id": "8de0c25d",
   "metadata": {},
   "outputs": [
    {
     "data": {
      "text/html": [
       "<div>\n",
       "<style scoped>\n",
       "    .dataframe tbody tr th:only-of-type {\n",
       "        vertical-align: middle;\n",
       "    }\n",
       "\n",
       "    .dataframe tbody tr th {\n",
       "        vertical-align: top;\n",
       "    }\n",
       "\n",
       "    .dataframe thead th {\n",
       "        text-align: right;\n",
       "    }\n",
       "</style>\n",
       "<table border=\"1\" class=\"dataframe\">\n",
       "  <thead>\n",
       "    <tr style=\"text-align: right;\">\n",
       "      <th></th>\n",
       "      <th>Book_Title</th>\n",
       "      <th>tags</th>\n",
       "      <th>url</th>\n",
       "    </tr>\n",
       "  </thead>\n",
       "  <tbody>\n",
       "    <tr>\n",
       "      <th>0</th>\n",
       "      <td>Obsidian</td>\n",
       "      <td>[JenniferLArmentrout, Starting, over, sucks, W...</td>\n",
       "      <td>https://www.goodreads.com/book/show/12578077-o...</td>\n",
       "    </tr>\n",
       "    <tr>\n",
       "      <th>1</th>\n",
       "      <td>Onyx</td>\n",
       "      <td>[JenniferLArmentrout, BEING, CONNECTED, TO, DA...</td>\n",
       "      <td>https://www.goodreads.com/book/show/13047090-onyx</td>\n",
       "    </tr>\n",
       "    <tr>\n",
       "      <th>2</th>\n",
       "      <td>The 5th Wave</td>\n",
       "      <td>[RickYancey, After, the, 1st, wave, only, dark...</td>\n",
       "      <td>https://www.goodreads.com/book/show/16101128-t...</td>\n",
       "    </tr>\n",
       "    <tr>\n",
       "      <th>3</th>\n",
       "      <td>The Host</td>\n",
       "      <td>[StephenieMeyer, Melanie, Stryder, refuses, to...</td>\n",
       "      <td>https://www.goodreads.com/book/show/1656001.Th...</td>\n",
       "    </tr>\n",
       "    <tr>\n",
       "      <th>4</th>\n",
       "      <td>Opal</td>\n",
       "      <td>[JenniferLArmentrout, No, one, is, like, Daemo...</td>\n",
       "      <td>https://www.goodreads.com/book/show/13362536-opal</td>\n",
       "    </tr>\n",
       "    <tr>\n",
       "      <th>...</th>\n",
       "      <td>...</td>\n",
       "      <td>...</td>\n",
       "      <td>...</td>\n",
       "    </tr>\n",
       "    <tr>\n",
       "      <th>1242</th>\n",
       "      <td>Turning Point</td>\n",
       "      <td>[LisanneNorman, Cut, off, from, Earth, by, ali...</td>\n",
       "      <td>https://www.goodreads.com/book/show/148282.Tur...</td>\n",
       "    </tr>\n",
       "    <tr>\n",
       "      <th>1243</th>\n",
       "      <td>The Color of Distance</td>\n",
       "      <td>[AmyThomson, Juna, is, the, sole, survivor, of...</td>\n",
       "      <td>https://www.goodreads.com/book/show/466371.The...</td>\n",
       "    </tr>\n",
       "    <tr>\n",
       "      <th>1244</th>\n",
       "      <td>Aliens: Genocide</td>\n",
       "      <td>[DavidBischoff, Their, queen, is, dead, and, t...</td>\n",
       "      <td>https://www.goodreads.com/book/show/2186184.Al...</td>\n",
       "    </tr>\n",
       "    <tr>\n",
       "      <th>1245</th>\n",
       "      <td>The Pool of Fire</td>\n",
       "      <td>[JohnChristopher, Alternate, cover, edition, c...</td>\n",
       "      <td>https://www.goodreads.com/book/show/80491.The_...</td>\n",
       "    </tr>\n",
       "    <tr>\n",
       "      <th>1246</th>\n",
       "      <td>The Gripping Hand</td>\n",
       "      <td>[LarryNiven, For, the, safety, of, mankind, th...</td>\n",
       "      <td>https://www.goodreads.com/book/show/218453.The...</td>\n",
       "    </tr>\n",
       "  </tbody>\n",
       "</table>\n",
       "<p>1247 rows × 3 columns</p>\n",
       "</div>"
      ],
      "text/plain": [
       "                 Book_Title  \\\n",
       "0                  Obsidian   \n",
       "1                      Onyx   \n",
       "2              The 5th Wave   \n",
       "3                  The Host   \n",
       "4                      Opal   \n",
       "...                     ...   \n",
       "1242          Turning Point   \n",
       "1243  The Color of Distance   \n",
       "1244       Aliens: Genocide   \n",
       "1245       The Pool of Fire   \n",
       "1246      The Gripping Hand   \n",
       "\n",
       "                                                   tags  \\\n",
       "0     [JenniferLArmentrout, Starting, over, sucks, W...   \n",
       "1     [JenniferLArmentrout, BEING, CONNECTED, TO, DA...   \n",
       "2     [RickYancey, After, the, 1st, wave, only, dark...   \n",
       "3     [StephenieMeyer, Melanie, Stryder, refuses, to...   \n",
       "4     [JenniferLArmentrout, No, one, is, like, Daemo...   \n",
       "...                                                 ...   \n",
       "1242  [LisanneNorman, Cut, off, from, Earth, by, ali...   \n",
       "1243  [AmyThomson, Juna, is, the, sole, survivor, of...   \n",
       "1244  [DavidBischoff, Their, queen, is, dead, and, t...   \n",
       "1245  [JohnChristopher, Alternate, cover, edition, c...   \n",
       "1246  [LarryNiven, For, the, safety, of, mankind, th...   \n",
       "\n",
       "                                                    url  \n",
       "0     https://www.goodreads.com/book/show/12578077-o...  \n",
       "1     https://www.goodreads.com/book/show/13047090-onyx  \n",
       "2     https://www.goodreads.com/book/show/16101128-t...  \n",
       "3     https://www.goodreads.com/book/show/1656001.Th...  \n",
       "4     https://www.goodreads.com/book/show/13362536-opal  \n",
       "...                                                 ...  \n",
       "1242  https://www.goodreads.com/book/show/148282.Tur...  \n",
       "1243  https://www.goodreads.com/book/show/466371.The...  \n",
       "1244  https://www.goodreads.com/book/show/2186184.Al...  \n",
       "1245  https://www.goodreads.com/book/show/80491.The_...  \n",
       "1246  https://www.goodreads.com/book/show/218453.The...  \n",
       "\n",
       "[1247 rows x 3 columns]"
      ]
     },
     "execution_count": 33,
     "metadata": {},
     "output_type": "execute_result"
    }
   ],
   "source": [
    "books_data.head(-1)"
   ]
  },
  {
   "cell_type": "code",
   "execution_count": 34,
   "id": "d7c7be99",
   "metadata": {},
   "outputs": [],
   "source": [
    "books_data = books_data.reset_index(drop = True)"
   ]
  },
  {
   "cell_type": "code",
   "execution_count": 35,
   "id": "e34cf2f3",
   "metadata": {},
   "outputs": [
    {
     "name": "stdout",
     "output_type": "stream",
     "text": [
      "<class 'pandas.core.frame.DataFrame'>\n",
      "RangeIndex: 1248 entries, 0 to 1247\n",
      "Data columns (total 3 columns):\n",
      " #   Column      Non-Null Count  Dtype \n",
      "---  ------      --------------  ----- \n",
      " 0   Book_Title  1248 non-null   object\n",
      " 1   tags        1248 non-null   object\n",
      " 2   url         1248 non-null   object\n",
      "dtypes: object(3)\n",
      "memory usage: 29.4+ KB\n"
     ]
    }
   ],
   "source": [
    "books_data.info()"
   ]
  },
  {
   "cell_type": "code",
   "execution_count": 36,
   "id": "4c149fca",
   "metadata": {},
   "outputs": [],
   "source": [
    "books_data['tags'] = books_data['tags'].apply(lambda x:\" \".join(x))"
   ]
  },
  {
   "cell_type": "code",
   "execution_count": 37,
   "id": "44e4b24d",
   "metadata": {},
   "outputs": [],
   "source": [
    "books_data['tags'] = books_data['tags'].apply(lambda x:x.lower())"
   ]
  },
  {
   "cell_type": "code",
   "execution_count": 38,
   "id": "ba378cde",
   "metadata": {},
   "outputs": [
    {
     "data": {
      "text/html": [
       "<div>\n",
       "<style scoped>\n",
       "    .dataframe tbody tr th:only-of-type {\n",
       "        vertical-align: middle;\n",
       "    }\n",
       "\n",
       "    .dataframe tbody tr th {\n",
       "        vertical-align: top;\n",
       "    }\n",
       "\n",
       "    .dataframe thead th {\n",
       "        text-align: right;\n",
       "    }\n",
       "</style>\n",
       "<table border=\"1\" class=\"dataframe\">\n",
       "  <thead>\n",
       "    <tr style=\"text-align: right;\">\n",
       "      <th></th>\n",
       "      <th>Book_Title</th>\n",
       "      <th>tags</th>\n",
       "      <th>url</th>\n",
       "    </tr>\n",
       "  </thead>\n",
       "  <tbody>\n",
       "    <tr>\n",
       "      <th>0</th>\n",
       "      <td>Obsidian</td>\n",
       "      <td>jenniferlarmentrout starting over sucks when w...</td>\n",
       "      <td>https://www.goodreads.com/book/show/12578077-o...</td>\n",
       "    </tr>\n",
       "    <tr>\n",
       "      <th>1</th>\n",
       "      <td>Onyx</td>\n",
       "      <td>jenniferlarmentrout being connected to daemon ...</td>\n",
       "      <td>https://www.goodreads.com/book/show/13047090-onyx</td>\n",
       "    </tr>\n",
       "    <tr>\n",
       "      <th>2</th>\n",
       "      <td>The 5th Wave</td>\n",
       "      <td>rickyancey after the 1st wave only darkness re...</td>\n",
       "      <td>https://www.goodreads.com/book/show/16101128-t...</td>\n",
       "    </tr>\n",
       "    <tr>\n",
       "      <th>3</th>\n",
       "      <td>The Host</td>\n",
       "      <td>stepheniemeyer melanie stryder refuses to fade...</td>\n",
       "      <td>https://www.goodreads.com/book/show/1656001.Th...</td>\n",
       "    </tr>\n",
       "    <tr>\n",
       "      <th>4</th>\n",
       "      <td>Opal</td>\n",
       "      <td>jenniferlarmentrout no one is like daemon blac...</td>\n",
       "      <td>https://www.goodreads.com/book/show/13362536-opal</td>\n",
       "    </tr>\n",
       "    <tr>\n",
       "      <th>...</th>\n",
       "      <td>...</td>\n",
       "      <td>...</td>\n",
       "      <td>...</td>\n",
       "    </tr>\n",
       "    <tr>\n",
       "      <th>1242</th>\n",
       "      <td>Turning Point</td>\n",
       "      <td>lisannenorman cut off from earth by alien conq...</td>\n",
       "      <td>https://www.goodreads.com/book/show/148282.Tur...</td>\n",
       "    </tr>\n",
       "    <tr>\n",
       "      <th>1243</th>\n",
       "      <td>The Color of Distance</td>\n",
       "      <td>amythomson juna is the sole survivor of a team...</td>\n",
       "      <td>https://www.goodreads.com/book/show/466371.The...</td>\n",
       "    </tr>\n",
       "    <tr>\n",
       "      <th>1244</th>\n",
       "      <td>Aliens: Genocide</td>\n",
       "      <td>davidbischoff their queen is dead and the hive...</td>\n",
       "      <td>https://www.goodreads.com/book/show/2186184.Al...</td>\n",
       "    </tr>\n",
       "    <tr>\n",
       "      <th>1245</th>\n",
       "      <td>The Pool of Fire</td>\n",
       "      <td>johnchristopher alternate cover edition can be...</td>\n",
       "      <td>https://www.goodreads.com/book/show/80491.The_...</td>\n",
       "    </tr>\n",
       "    <tr>\n",
       "      <th>1246</th>\n",
       "      <td>The Gripping Hand</td>\n",
       "      <td>larryniven for the safety of mankind the alien...</td>\n",
       "      <td>https://www.goodreads.com/book/show/218453.The...</td>\n",
       "    </tr>\n",
       "  </tbody>\n",
       "</table>\n",
       "<p>1247 rows × 3 columns</p>\n",
       "</div>"
      ],
      "text/plain": [
       "                 Book_Title  \\\n",
       "0                  Obsidian   \n",
       "1                      Onyx   \n",
       "2              The 5th Wave   \n",
       "3                  The Host   \n",
       "4                      Opal   \n",
       "...                     ...   \n",
       "1242          Turning Point   \n",
       "1243  The Color of Distance   \n",
       "1244       Aliens: Genocide   \n",
       "1245       The Pool of Fire   \n",
       "1246      The Gripping Hand   \n",
       "\n",
       "                                                   tags  \\\n",
       "0     jenniferlarmentrout starting over sucks when w...   \n",
       "1     jenniferlarmentrout being connected to daemon ...   \n",
       "2     rickyancey after the 1st wave only darkness re...   \n",
       "3     stepheniemeyer melanie stryder refuses to fade...   \n",
       "4     jenniferlarmentrout no one is like daemon blac...   \n",
       "...                                                 ...   \n",
       "1242  lisannenorman cut off from earth by alien conq...   \n",
       "1243  amythomson juna is the sole survivor of a team...   \n",
       "1244  davidbischoff their queen is dead and the hive...   \n",
       "1245  johnchristopher alternate cover edition can be...   \n",
       "1246  larryniven for the safety of mankind the alien...   \n",
       "\n",
       "                                                    url  \n",
       "0     https://www.goodreads.com/book/show/12578077-o...  \n",
       "1     https://www.goodreads.com/book/show/13047090-onyx  \n",
       "2     https://www.goodreads.com/book/show/16101128-t...  \n",
       "3     https://www.goodreads.com/book/show/1656001.Th...  \n",
       "4     https://www.goodreads.com/book/show/13362536-opal  \n",
       "...                                                 ...  \n",
       "1242  https://www.goodreads.com/book/show/148282.Tur...  \n",
       "1243  https://www.goodreads.com/book/show/466371.The...  \n",
       "1244  https://www.goodreads.com/book/show/2186184.Al...  \n",
       "1245  https://www.goodreads.com/book/show/80491.The_...  \n",
       "1246  https://www.goodreads.com/book/show/218453.The...  \n",
       "\n",
       "[1247 rows x 3 columns]"
      ]
     },
     "execution_count": 38,
     "metadata": {},
     "output_type": "execute_result"
    }
   ],
   "source": [
    "books_data.head(-1)"
   ]
  },
  {
   "cell_type": "markdown",
   "id": "4a304247",
   "metadata": {},
   "source": [
    "# Removing Stop Words"
   ]
  },
  {
   "cell_type": "code",
   "execution_count": 39,
   "id": "4c952f8c",
   "metadata": {},
   "outputs": [
    {
     "name": "stderr",
     "output_type": "stream",
     "text": [
      "[nltk_data] Downloading package stopwords to /Users/saman/nltk_data...\n",
      "[nltk_data]   Package stopwords is already up-to-date!\n"
     ]
    },
    {
     "data": {
      "text/plain": [
       "True"
      ]
     },
     "execution_count": 39,
     "metadata": {},
     "output_type": "execute_result"
    }
   ],
   "source": [
    "import ssl\n",
    "try:\n",
    "    _create_unverified_https_context = ssl._create_unverified_context\n",
    "except AttributeError:\n",
    "    pass\n",
    "else:\n",
    "    ssl._create_default_https_context = _create_unverified_https_context\n",
    "\n",
    "nltk.download('stopwords')"
   ]
  },
  {
   "cell_type": "code",
   "execution_count": 40,
   "id": "c18a5aa0",
   "metadata": {},
   "outputs": [
    {
     "name": "stdout",
     "output_type": "stream",
     "text": [
      "{'he', 'or', 'this', 'who', 'each', 's', \"don't\", \"hasn't\", 'very', 'yourself', 'me', 'wasn', 'as', 'into', 'them', 'is', \"doesn't\", \"won't\", 'few', 'had', 'will', 'from', 'before', 'to', 'because', 'both', 'over', \"needn't\", 'any', 'my', 'where', \"you'll\", 'itself', 'there', 'most', 'd', 'whom', 'been', 'after', 'why', 'that', 'won', 'needn', 'should', \"shouldn't\", 'on', 'haven', 'own', 'they', 'once', 'shan', 'too', \"couldn't\", 'then', 'such', 'here', 'other', \"hadn't\", 'out', 'themselves', 'about', 'mightn', 'him', 'yourselves', 'was', 'only', 'down', 'off', 'when', 'no', 'shouldn', 'these', 'doesn', \"it's\", 'y', 'those', \"haven't\", \"isn't\", 'have', 'a', 'up', 'same', 'now', \"mustn't\", 'but', 'ma', 'your', 'do', 'her', 'his', 'hers', \"should've\", 'aren', 'in', 'ain', 'which', 'having', 'between', 'so', 'theirs', 'm', 'has', 'yours', 'it', 'until', \"shan't\", \"weren't\", 'be', 'mustn', 'further', 'couldn', 'how', 're', 'hasn', 'doing', 'ours', 'for', 'all', \"that'll\", \"she's\", 'don', 'being', 'than', 'their', 'are', 'if', 'myself', 'what', 'with', 'just', \"you've\", 'the', 'we', 'himself', 'didn', 't', 'at', 'does', 'again', \"you're\", 'wouldn', 'll', 'under', \"wasn't\", 'our', 'nor', 'o', \"mightn't\", 'through', 'and', \"wouldn't\", 'isn', 'its', 'i', 'more', 'below', 'she', 'some', \"aren't\", 'of', 'am', 'ourselves', 'not', \"you'd\", 'herself', \"didn't\", 'during', 'can', 'were', 'above', 'hadn', 'weren', 'against', 'you', 've', 'did', 'an', 'while', 'by'}\n"
     ]
    }
   ],
   "source": [
    "en_stops = set(stopwords.words('english'))\n",
    "print(en_stops)"
   ]
  },
  {
   "cell_type": "code",
   "execution_count": 41,
   "id": "b71f568a",
   "metadata": {},
   "outputs": [],
   "source": [
    "def removestop(n):\n",
    "    n = n.split()\n",
    "    new = []\n",
    "    for i in n:\n",
    "        if i not in en_stops:\n",
    "            new.append(i)\n",
    "    return \" \".join(new)"
   ]
  },
  {
   "cell_type": "code",
   "execution_count": 42,
   "id": "348f613f",
   "metadata": {},
   "outputs": [
    {
     "data": {
      "text/plain": [
       "'jenniferlarmentrout starting over sucks when we moved to west virginia right before my senior year i’d pretty much resigned myself to thick accents dodgy internet access and a whole lot of boring… until i spotted my hot neighbor with his looming height and eerie green eyes things were looking up and then he opened his mouth daemon is infuriating arrogant stab-worthy we do not get along at all but when a stranger attacks me and daemon literally freezes time with a wave of his hand well something… unexpected happens the hot alien living next door marks me you heard me alien turns out daemon and his sister have a galaxy of enemies wanting to steal their abilities and daemon’s touch has me lit up like the vegas strip the only way i’m getting out of this alive is by sticking close to daemon until my alien mojo fades if i don’t kill him first that is youngadult fantasyparanormal fantasy romance sciencefictionaliens sciencefiction romanceparanormalromance fantasysupernatural fantasyurbanfantasy fiction'"
      ]
     },
     "execution_count": 42,
     "metadata": {},
     "output_type": "execute_result"
    }
   ],
   "source": [
    "books_data['tags'][0]"
   ]
  },
  {
   "cell_type": "code",
   "execution_count": 43,
   "id": "af84b0a3",
   "metadata": {},
   "outputs": [],
   "source": [
    "books_data['tags'] = books_data['tags'].apply(removestop)"
   ]
  },
  {
   "cell_type": "code",
   "execution_count": 44,
   "id": "46f2bb63",
   "metadata": {},
   "outputs": [
    {
     "data": {
      "text/html": [
       "<div>\n",
       "<style scoped>\n",
       "    .dataframe tbody tr th:only-of-type {\n",
       "        vertical-align: middle;\n",
       "    }\n",
       "\n",
       "    .dataframe tbody tr th {\n",
       "        vertical-align: top;\n",
       "    }\n",
       "\n",
       "    .dataframe thead th {\n",
       "        text-align: right;\n",
       "    }\n",
       "</style>\n",
       "<table border=\"1\" class=\"dataframe\">\n",
       "  <thead>\n",
       "    <tr style=\"text-align: right;\">\n",
       "      <th></th>\n",
       "      <th>Book_Title</th>\n",
       "      <th>tags</th>\n",
       "      <th>url</th>\n",
       "    </tr>\n",
       "  </thead>\n",
       "  <tbody>\n",
       "    <tr>\n",
       "      <th>0</th>\n",
       "      <td>Obsidian</td>\n",
       "      <td>jenniferlarmentrout starting sucks moved west ...</td>\n",
       "      <td>https://www.goodreads.com/book/show/12578077-o...</td>\n",
       "    </tr>\n",
       "    <tr>\n",
       "      <th>1</th>\n",
       "      <td>Onyx</td>\n",
       "      <td>jenniferlarmentrout connected daemon black suc...</td>\n",
       "      <td>https://www.goodreads.com/book/show/13047090-onyx</td>\n",
       "    </tr>\n",
       "    <tr>\n",
       "      <th>2</th>\n",
       "      <td>The 5th Wave</td>\n",
       "      <td>rickyancey 1st wave darkness remains 2nd lucky...</td>\n",
       "      <td>https://www.goodreads.com/book/show/16101128-t...</td>\n",
       "    </tr>\n",
       "    <tr>\n",
       "      <th>3</th>\n",
       "      <td>The Host</td>\n",
       "      <td>stepheniemeyer melanie stryder refuses fade aw...</td>\n",
       "      <td>https://www.goodreads.com/book/show/1656001.Th...</td>\n",
       "    </tr>\n",
       "    <tr>\n",
       "      <th>4</th>\n",
       "      <td>Opal</td>\n",
       "      <td>jenniferlarmentrout one like daemon black set ...</td>\n",
       "      <td>https://www.goodreads.com/book/show/13362536-opal</td>\n",
       "    </tr>\n",
       "    <tr>\n",
       "      <th>...</th>\n",
       "      <td>...</td>\n",
       "      <td>...</td>\n",
       "      <td>...</td>\n",
       "    </tr>\n",
       "    <tr>\n",
       "      <th>1242</th>\n",
       "      <td>Turning Point</td>\n",
       "      <td>lisannenorman cut earth alien conquerors human...</td>\n",
       "      <td>https://www.goodreads.com/book/show/148282.Tur...</td>\n",
       "    </tr>\n",
       "    <tr>\n",
       "      <th>1243</th>\n",
       "      <td>The Color of Distance</td>\n",
       "      <td>amythomson juna sole survivor team surveyors m...</td>\n",
       "      <td>https://www.goodreads.com/book/show/466371.The...</td>\n",
       "    </tr>\n",
       "    <tr>\n",
       "      <th>1244</th>\n",
       "      <td>Aliens: Genocide</td>\n",
       "      <td>davidbischoff queen dead hive mind left flound...</td>\n",
       "      <td>https://www.goodreads.com/book/show/2186184.Al...</td>\n",
       "    </tr>\n",
       "    <tr>\n",
       "      <th>1245</th>\n",
       "      <td>The Pool of Fire</td>\n",
       "      <td>johnchristopher alternate cover edition found ...</td>\n",
       "      <td>https://www.goodreads.com/book/show/80491.The_...</td>\n",
       "    </tr>\n",
       "    <tr>\n",
       "      <th>1246</th>\n",
       "      <td>The Gripping Hand</td>\n",
       "      <td>larryniven safety mankind aliens called moties...</td>\n",
       "      <td>https://www.goodreads.com/book/show/218453.The...</td>\n",
       "    </tr>\n",
       "  </tbody>\n",
       "</table>\n",
       "<p>1247 rows × 3 columns</p>\n",
       "</div>"
      ],
      "text/plain": [
       "                 Book_Title  \\\n",
       "0                  Obsidian   \n",
       "1                      Onyx   \n",
       "2              The 5th Wave   \n",
       "3                  The Host   \n",
       "4                      Opal   \n",
       "...                     ...   \n",
       "1242          Turning Point   \n",
       "1243  The Color of Distance   \n",
       "1244       Aliens: Genocide   \n",
       "1245       The Pool of Fire   \n",
       "1246      The Gripping Hand   \n",
       "\n",
       "                                                   tags  \\\n",
       "0     jenniferlarmentrout starting sucks moved west ...   \n",
       "1     jenniferlarmentrout connected daemon black suc...   \n",
       "2     rickyancey 1st wave darkness remains 2nd lucky...   \n",
       "3     stepheniemeyer melanie stryder refuses fade aw...   \n",
       "4     jenniferlarmentrout one like daemon black set ...   \n",
       "...                                                 ...   \n",
       "1242  lisannenorman cut earth alien conquerors human...   \n",
       "1243  amythomson juna sole survivor team surveyors m...   \n",
       "1244  davidbischoff queen dead hive mind left flound...   \n",
       "1245  johnchristopher alternate cover edition found ...   \n",
       "1246  larryniven safety mankind aliens called moties...   \n",
       "\n",
       "                                                    url  \n",
       "0     https://www.goodreads.com/book/show/12578077-o...  \n",
       "1     https://www.goodreads.com/book/show/13047090-onyx  \n",
       "2     https://www.goodreads.com/book/show/16101128-t...  \n",
       "3     https://www.goodreads.com/book/show/1656001.Th...  \n",
       "4     https://www.goodreads.com/book/show/13362536-opal  \n",
       "...                                                 ...  \n",
       "1242  https://www.goodreads.com/book/show/148282.Tur...  \n",
       "1243  https://www.goodreads.com/book/show/466371.The...  \n",
       "1244  https://www.goodreads.com/book/show/2186184.Al...  \n",
       "1245  https://www.goodreads.com/book/show/80491.The_...  \n",
       "1246  https://www.goodreads.com/book/show/218453.The...  \n",
       "\n",
       "[1247 rows x 3 columns]"
      ]
     },
     "execution_count": 44,
     "metadata": {},
     "output_type": "execute_result"
    }
   ],
   "source": [
    "books_data.head(-1)"
   ]
  },
  {
   "cell_type": "code",
   "execution_count": 45,
   "id": "3716ca28",
   "metadata": {},
   "outputs": [
    {
     "data": {
      "text/html": [
       "<div>\n",
       "<style scoped>\n",
       "    .dataframe tbody tr th:only-of-type {\n",
       "        vertical-align: middle;\n",
       "    }\n",
       "\n",
       "    .dataframe tbody tr th {\n",
       "        vertical-align: top;\n",
       "    }\n",
       "\n",
       "    .dataframe thead th {\n",
       "        text-align: right;\n",
       "    }\n",
       "</style>\n",
       "<table border=\"1\" class=\"dataframe\">\n",
       "  <thead>\n",
       "    <tr style=\"text-align: right;\">\n",
       "      <th></th>\n",
       "      <th>Book_Title</th>\n",
       "      <th>tags</th>\n",
       "      <th>url</th>\n",
       "    </tr>\n",
       "  </thead>\n",
       "  <tbody>\n",
       "    <tr>\n",
       "      <th>0</th>\n",
       "      <td>Obsidian</td>\n",
       "      <td>jenniferlarmentrout starting sucks moved west ...</td>\n",
       "      <td>https://www.goodreads.com/book/show/12578077-o...</td>\n",
       "    </tr>\n",
       "    <tr>\n",
       "      <th>1</th>\n",
       "      <td>Onyx</td>\n",
       "      <td>jenniferlarmentrout connected daemon black suc...</td>\n",
       "      <td>https://www.goodreads.com/book/show/13047090-onyx</td>\n",
       "    </tr>\n",
       "    <tr>\n",
       "      <th>2</th>\n",
       "      <td>The 5th Wave</td>\n",
       "      <td>rickyancey 1st wave darkness remains 2nd lucky...</td>\n",
       "      <td>https://www.goodreads.com/book/show/16101128-t...</td>\n",
       "    </tr>\n",
       "    <tr>\n",
       "      <th>3</th>\n",
       "      <td>The Host</td>\n",
       "      <td>stepheniemeyer melanie stryder refuses fade aw...</td>\n",
       "      <td>https://www.goodreads.com/book/show/1656001.Th...</td>\n",
       "    </tr>\n",
       "    <tr>\n",
       "      <th>4</th>\n",
       "      <td>Opal</td>\n",
       "      <td>jenniferlarmentrout one like daemon black set ...</td>\n",
       "      <td>https://www.goodreads.com/book/show/13362536-opal</td>\n",
       "    </tr>\n",
       "  </tbody>\n",
       "</table>\n",
       "</div>"
      ],
      "text/plain": [
       "     Book_Title                                               tags  \\\n",
       "0      Obsidian  jenniferlarmentrout starting sucks moved west ...   \n",
       "1          Onyx  jenniferlarmentrout connected daemon black suc...   \n",
       "2  The 5th Wave  rickyancey 1st wave darkness remains 2nd lucky...   \n",
       "3      The Host  stepheniemeyer melanie stryder refuses fade aw...   \n",
       "4          Opal  jenniferlarmentrout one like daemon black set ...   \n",
       "\n",
       "                                                 url  \n",
       "0  https://www.goodreads.com/book/show/12578077-o...  \n",
       "1  https://www.goodreads.com/book/show/13047090-onyx  \n",
       "2  https://www.goodreads.com/book/show/16101128-t...  \n",
       "3  https://www.goodreads.com/book/show/1656001.Th...  \n",
       "4  https://www.goodreads.com/book/show/13362536-opal  "
      ]
     },
     "execution_count": 45,
     "metadata": {},
     "output_type": "execute_result"
    }
   ],
   "source": [
    "books_data.head(5)"
   ]
  },
  {
   "cell_type": "code",
   "execution_count": 46,
   "id": "a89aa3df",
   "metadata": {},
   "outputs": [],
   "source": [
    "# This usually takes a lot of time\n",
    "books_data['url'] = books_data['url'].apply(cover_scrape)"
   ]
  },
  {
   "cell_type": "code",
   "execution_count": 47,
   "id": "388d6e34",
   "metadata": {},
   "outputs": [
    {
     "data": {
      "text/html": [
       "<div>\n",
       "<style scoped>\n",
       "    .dataframe tbody tr th:only-of-type {\n",
       "        vertical-align: middle;\n",
       "    }\n",
       "\n",
       "    .dataframe tbody tr th {\n",
       "        vertical-align: top;\n",
       "    }\n",
       "\n",
       "    .dataframe thead th {\n",
       "        text-align: right;\n",
       "    }\n",
       "</style>\n",
       "<table border=\"1\" class=\"dataframe\">\n",
       "  <thead>\n",
       "    <tr style=\"text-align: right;\">\n",
       "      <th></th>\n",
       "      <th>Book_Title</th>\n",
       "      <th>tags</th>\n",
       "      <th>url</th>\n",
       "    </tr>\n",
       "  </thead>\n",
       "  <tbody>\n",
       "    <tr>\n",
       "      <th>0</th>\n",
       "      <td>Obsidian</td>\n",
       "      <td>jenniferlarmentrout starting sucks moved west ...</td>\n",
       "      <td>https://i.gr-assets.com/images/S/compressed.ph...</td>\n",
       "    </tr>\n",
       "    <tr>\n",
       "      <th>1</th>\n",
       "      <td>Onyx</td>\n",
       "      <td>jenniferlarmentrout connected daemon black suc...</td>\n",
       "      <td>https://i.gr-assets.com/images/S/compressed.ph...</td>\n",
       "    </tr>\n",
       "    <tr>\n",
       "      <th>2</th>\n",
       "      <td>The 5th Wave</td>\n",
       "      <td>rickyancey 1st wave darkness remains 2nd lucky...</td>\n",
       "      <td>https://i.gr-assets.com/images/S/compressed.ph...</td>\n",
       "    </tr>\n",
       "    <tr>\n",
       "      <th>3</th>\n",
       "      <td>The Host</td>\n",
       "      <td>stepheniemeyer melanie stryder refuses fade aw...</td>\n",
       "      <td>https://i.gr-assets.com/images/S/compressed.ph...</td>\n",
       "    </tr>\n",
       "    <tr>\n",
       "      <th>4</th>\n",
       "      <td>Opal</td>\n",
       "      <td>jenniferlarmentrout one like daemon black set ...</td>\n",
       "      <td>https://i.gr-assets.com/images/S/compressed.ph...</td>\n",
       "    </tr>\n",
       "    <tr>\n",
       "      <th>...</th>\n",
       "      <td>...</td>\n",
       "      <td>...</td>\n",
       "      <td>...</td>\n",
       "    </tr>\n",
       "    <tr>\n",
       "      <th>1242</th>\n",
       "      <td>Turning Point</td>\n",
       "      <td>lisannenorman cut earth alien conquerors human...</td>\n",
       "      <td>https://i.gr-assets.com/images/S/compressed.ph...</td>\n",
       "    </tr>\n",
       "    <tr>\n",
       "      <th>1243</th>\n",
       "      <td>The Color of Distance</td>\n",
       "      <td>amythomson juna sole survivor team surveyors m...</td>\n",
       "      <td>https://i.gr-assets.com/images/S/compressed.ph...</td>\n",
       "    </tr>\n",
       "    <tr>\n",
       "      <th>1244</th>\n",
       "      <td>Aliens: Genocide</td>\n",
       "      <td>davidbischoff queen dead hive mind left flound...</td>\n",
       "      <td>https://i.gr-assets.com/images/S/compressed.ph...</td>\n",
       "    </tr>\n",
       "    <tr>\n",
       "      <th>1245</th>\n",
       "      <td>The Pool of Fire</td>\n",
       "      <td>johnchristopher alternate cover edition found ...</td>\n",
       "      <td>https://i.gr-assets.com/images/S/compressed.ph...</td>\n",
       "    </tr>\n",
       "    <tr>\n",
       "      <th>1246</th>\n",
       "      <td>The Gripping Hand</td>\n",
       "      <td>larryniven safety mankind aliens called moties...</td>\n",
       "      <td>https://i.gr-assets.com/images/S/compressed.ph...</td>\n",
       "    </tr>\n",
       "  </tbody>\n",
       "</table>\n",
       "<p>1247 rows × 3 columns</p>\n",
       "</div>"
      ],
      "text/plain": [
       "                 Book_Title  \\\n",
       "0                  Obsidian   \n",
       "1                      Onyx   \n",
       "2              The 5th Wave   \n",
       "3                  The Host   \n",
       "4                      Opal   \n",
       "...                     ...   \n",
       "1242          Turning Point   \n",
       "1243  The Color of Distance   \n",
       "1244       Aliens: Genocide   \n",
       "1245       The Pool of Fire   \n",
       "1246      The Gripping Hand   \n",
       "\n",
       "                                                   tags  \\\n",
       "0     jenniferlarmentrout starting sucks moved west ...   \n",
       "1     jenniferlarmentrout connected daemon black suc...   \n",
       "2     rickyancey 1st wave darkness remains 2nd lucky...   \n",
       "3     stepheniemeyer melanie stryder refuses fade aw...   \n",
       "4     jenniferlarmentrout one like daemon black set ...   \n",
       "...                                                 ...   \n",
       "1242  lisannenorman cut earth alien conquerors human...   \n",
       "1243  amythomson juna sole survivor team surveyors m...   \n",
       "1244  davidbischoff queen dead hive mind left flound...   \n",
       "1245  johnchristopher alternate cover edition found ...   \n",
       "1246  larryniven safety mankind aliens called moties...   \n",
       "\n",
       "                                                    url  \n",
       "0     https://i.gr-assets.com/images/S/compressed.ph...  \n",
       "1     https://i.gr-assets.com/images/S/compressed.ph...  \n",
       "2     https://i.gr-assets.com/images/S/compressed.ph...  \n",
       "3     https://i.gr-assets.com/images/S/compressed.ph...  \n",
       "4     https://i.gr-assets.com/images/S/compressed.ph...  \n",
       "...                                                 ...  \n",
       "1242  https://i.gr-assets.com/images/S/compressed.ph...  \n",
       "1243  https://i.gr-assets.com/images/S/compressed.ph...  \n",
       "1244  https://i.gr-assets.com/images/S/compressed.ph...  \n",
       "1245  https://i.gr-assets.com/images/S/compressed.ph...  \n",
       "1246  https://i.gr-assets.com/images/S/compressed.ph...  \n",
       "\n",
       "[1247 rows x 3 columns]"
      ]
     },
     "execution_count": 47,
     "metadata": {},
     "output_type": "execute_result"
    }
   ],
   "source": [
    "books_data.head(-1)"
   ]
  },
  {
   "cell_type": "markdown",
   "id": "186a6393",
   "metadata": {},
   "source": [
    "# Exporting the created CSV File (Optional)"
   ]
  },
  {
   "cell_type": "code",
   "execution_count": 48,
   "id": "4a9dd68d",
   "metadata": {},
   "outputs": [],
   "source": [
    "books_data.to_csv('x.csv',index = False)"
   ]
  },
  {
   "cell_type": "code",
   "execution_count": 49,
   "id": "de7304f7",
   "metadata": {},
   "outputs": [
    {
     "data": {
      "text/plain": [
       "0       jenniferlarmentrout starting sucks moved west ...\n",
       "1       jenniferlarmentrout connected daemon black suc...\n",
       "2       rickyancey 1st wave darkness remains 2nd lucky...\n",
       "3       stepheniemeyer melanie stryder refuses fade aw...\n",
       "4       jenniferlarmentrout one like daemon black set ...\n",
       "                              ...                        \n",
       "1243    amythomson juna sole survivor team surveyors m...\n",
       "1244    davidbischoff queen dead hive mind left flound...\n",
       "1245    johnchristopher alternate cover edition found ...\n",
       "1246    larryniven safety mankind aliens called moties...\n",
       "1247    larryniven \"this rousing sequel classic ringwo...\n",
       "Name: tags, Length: 1248, dtype: object"
      ]
     },
     "execution_count": 49,
     "metadata": {},
     "output_type": "execute_result"
    }
   ],
   "source": [
    "books_data['tags']"
   ]
  },
  {
   "cell_type": "markdown",
   "id": "5a22f8e4",
   "metadata": {},
   "source": [
    "# Vectorizing"
   ]
  },
  {
   "cell_type": "code",
   "execution_count": 50,
   "id": "66cd3648",
   "metadata": {},
   "outputs": [],
   "source": [
    "vec = TfidfVectorizer()"
   ]
  },
  {
   "cell_type": "code",
   "execution_count": 51,
   "id": "1d11d496",
   "metadata": {},
   "outputs": [],
   "source": [
    "feature_v = vec.fit_transform(books_data['tags'])"
   ]
  },
  {
   "cell_type": "code",
   "execution_count": 52,
   "id": "121fd7ed",
   "metadata": {
    "scrolled": true
   },
   "outputs": [
    {
     "name": "stdout",
     "output_type": "stream",
     "text": [
      "  (0, 5392)\t0.03066035550137788\n",
      "  (0, 5258)\t0.06816100129620213\n",
      "  (0, 5256)\t0.07033139577421904\n",
      "  (0, 12110)\t0.0331341962388734\n",
      "  (0, 12444)\t0.01856817690647368\n",
      "  (0, 12445)\t0.02005480788107261\n",
      "  (0, 12099)\t0.023824652723204748\n",
      "  (0, 5249)\t0.020200617621693163\n",
      "  (0, 5255)\t0.02800216759070968\n",
      "  (0, 16109)\t0.045772660891402805\n",
      "  (0, 5473)\t0.04492968279120888\n",
      "  (0, 7977)\t0.06816100129620213\n",
      "  (0, 4224)\t0.07369832523669542\n",
      "  (0, 5198)\t0.12787191851736585\n",
      "  (0, 9388)\t0.12264024240098485\n",
      "  (0, 2703)\t0.07707570620374016\n",
      "  (0, 13602)\t0.12264024240098485\n",
      "  (0, 581)\t0.07165940294372014\n",
      "  (0, 5984)\t0.07339267741258312\n",
      "  (0, 15688)\t0.04795614729389517\n",
      "  (0, 13709)\t0.12264024240098485\n",
      "  (0, 15372)\t0.11858223914069946\n",
      "  (0, 8421)\t0.04707956231002475\n",
      "  (0, 8481)\t0.13524555186210918\n",
      "  (0, 14608)\t0.07497503302817808\n",
      "  :\t:\n",
      "  (1247, 8201)\t0.24718917821480876\n",
      "  (1247, 8611)\t0.27422125725617585\n",
      "  (1247, 12153)\t0.27422125725617585\n",
      "  (1247, 3096)\t0.22015709917344173\n",
      "  (1247, 14392)\t0.18314386260444585\n",
      "  (1247, 8390)\t0.24117744870304092\n",
      "  (1247, 758)\t0.15250931216720884\n",
      "  (1247, 5248)\t0.24117744870304092\n",
      "  (1247, 13326)\t0.2630019307705388\n",
      "  (1247, 2646)\t0.20023538698117277\n",
      "  (1247, 13300)\t0.1257650502726156\n",
      "  (1247, 411)\t0.23137642565907876\n",
      "  (1247, 12658)\t0.1819056936464376\n",
      "  (1247, 9880)\t0.1407206464258846\n",
      "  (1247, 13289)\t0.08429218590528877\n",
      "  (1247, 12450)\t0.10498618167788568\n",
      "  (1247, 10678)\t0.08113225325875617\n",
      "  (1247, 408)\t0.09773476929935845\n",
      "  (1247, 14522)\t0.1741906783075718\n",
      "  (1247, 1161)\t0.10671975802796498\n",
      "  (1247, 12439)\t0.17130053806457676\n",
      "  (1247, 5392)\t0.0657511151079455\n",
      "  (1247, 12444)\t0.03981944492024497\n",
      "  (1247, 12445)\t0.043007524208154686\n",
      "  (1247, 5249)\t0.043320213114810414\n"
     ]
    }
   ],
   "source": [
    "print(feature_v)"
   ]
  },
  {
   "cell_type": "code",
   "execution_count": 53,
   "id": "75605155",
   "metadata": {},
   "outputs": [],
   "source": [
    "similarity = cosine_similarity(feature_v)"
   ]
  },
  {
   "cell_type": "code",
   "execution_count": 54,
   "id": "c8464ae5",
   "metadata": {},
   "outputs": [
    {
     "name": "stdout",
     "output_type": "stream",
     "text": [
      "[[1.         0.39635347 0.04520418 ... 0.00796935 0.00377249 0.00449293]\n",
      " [0.39635347 1.         0.03556547 ... 0.02261726 0.01050099 0.01741799]\n",
      " [0.04520418 0.03556547 1.         ... 0.05382372 0.01616429 0.01048684]\n",
      " ...\n",
      " [0.00796935 0.02261726 0.05382372 ... 1.         0.01284045 0.02679165]\n",
      " [0.00377249 0.01050099 0.01616429 ... 0.01284045 1.         0.10455315]\n",
      " [0.00449293 0.01741799 0.01048684 ... 0.02679165 0.10455315 1.        ]]\n"
     ]
    }
   ],
   "source": [
    "print(similarity)"
   ]
  },
  {
   "cell_type": "code",
   "execution_count": 55,
   "id": "1064fb78",
   "metadata": {},
   "outputs": [
    {
     "name": "stdout",
     "output_type": "stream",
     "text": [
      "(1248, 1248)\n"
     ]
    }
   ],
   "source": [
    "print(similarity.shape)"
   ]
  },
  {
   "cell_type": "markdown",
   "id": "6b573ed4",
   "metadata": {},
   "source": [
    "# Finding the Book"
   ]
  },
  {
   "cell_type": "code",
   "execution_count": 69,
   "id": "a5a84934",
   "metadata": {},
   "outputs": [],
   "source": [
    "bookname = \"gravity \" #user input"
   ]
  },
  {
   "cell_type": "code",
   "execution_count": 70,
   "id": "a3a61ec3",
   "metadata": {},
   "outputs": [],
   "source": [
    "titleslist = books_data['Book_Title'].tolist()"
   ]
  },
  {
   "cell_type": "code",
   "execution_count": 71,
   "id": "93f27bd3",
   "metadata": {},
   "outputs": [
    {
     "name": "stdout",
     "output_type": "stream",
     "text": [
      "Gravity\n"
     ]
    }
   ],
   "source": [
    "closematch = difflib.get_close_matches(bookname, titleslist)[0]\n",
    "print(closematch)"
   ]
  },
  {
   "cell_type": "code",
   "execution_count": 72,
   "id": "ac9c30c9",
   "metadata": {},
   "outputs": [
    {
     "name": "stdout",
     "output_type": "stream",
     "text": [
      "30\n"
     ]
    }
   ],
   "source": [
    "index = books_data.index\n",
    "cond = books_data['Book_Title'] == closematch\n",
    "index = index[cond][0]\n",
    "print(index)"
   ]
  },
  {
   "cell_type": "markdown",
   "id": "4faac075",
   "metadata": {},
   "source": [
    "# Extracting similarity score for that Book"
   ]
  },
  {
   "cell_type": "code",
   "execution_count": 73,
   "id": "eeba92ab",
   "metadata": {},
   "outputs": [],
   "source": [
    "similarity_score = list(enumerate(similarity[index]))"
   ]
  },
  {
   "cell_type": "code",
   "execution_count": 74,
   "id": "4fa09479",
   "metadata": {},
   "outputs": [
    {
     "name": "stdout",
     "output_type": "stream",
     "text": [
      "[(0, 0.02993614989464271), (1, 0.04892691455606883), (2, 0.02852659148012477), (3, 0.008543027574379983), (4, 0.026850531310336278), (5, 0.02603030260253778), (6, 0.04764682831013372), (7, 0.022161748615361996), (8, 0.008760806196944847), (9, 0.054510276281180194), (10, 0.06204931299171919), (11, 0.03473113037598872), (12, 0.016568542656681125), (13, 0.007285273768992565), (14, 0.025732508249869206), (15, 0.005809217768647441), (16, 0.038654047241063555), (17, 0.022803363554890706), (18, 0.008802744865562463), (19, 0.02601421843336329), (20, 0.02034212350748339), (21, 0.0365488815030757), (22, 0.018600704835989308), (23, 0.03690569091088004), (24, 0.025090288513197008), (25, 0.021417695817101234), (26, 0.02636299640063382), (27, 0.02358807109141803), (28, 0.034237587611122965), (29, 0.01265808288147004), (30, 1.0000000000000002), (31, 0.03290727015600754), (32, 0.04495232863421622), (33, 0.0386975136558105), (34, 0.023866808264841256), (35, 0.030244836720032506), (36, 0.019919571291715947), (37, 0.05142256500303919), (38, 0.02442365429397546), (39, 0.04705836703787425), (40, 0.028674810997312776), (41, 0.04743316793104746), (42, 0.015065286833730004), (43, 0.04301128473400697), (44, 0.02263371657638297), (45, 0.015924584597778235), (46, 0.03712236571041526), (47, 0.02174987265594322), (48, 0.025597187576606825), (49, 0.05465744877408031), (50, 0.085139059566272), (51, 0.02682401432567278), (52, 0.028655506687412978), (53, 0.042363276757905945), (54, 0.04770072308097596), (55, 0.01098780690237081), (56, 0.04287470301325779), (57, 0.020628080710247562), (58, 0.015581469732838771), (59, 0.027625211704726423), (60, 0.026453171481142908), (61, 0.010980456868018573), (62, 0.023200767148147398), (63, 0.026653234291171352), (64, 0.050079980084112755), (65, 0.01092433188292474), (66, 0.013229663347761215), (67, 0.02566736410307971), (68, 0.025274461613262654), (69, 0.04357066812071515), (70, 0.013030707517747516), (71, 0.03185791319444818), (72, 0.027979304838417714), (73, 0.05458027501001318), (74, 0.047701728479945485), (75, 0.022722350184171684), (76, 0.045284283966046), (77, 0.05173119832039193), (78, 0.03292115981470166), (79, 0.04437752185945697), (80, 0.022327763852683077), (81, 0.032529713713843764), (82, 0.019406620731071186), (83, 0.017575575981979476), (84, 0.026760125985890653), (85, 0.04849320823336766), (86, 0.060538363356398686), (87, 0.024029769574218707), (88, 0.022907196005143668), (89, 0.02608410449363734), (90, 0.017885310407128402), (91, 0.019919570695996442), (92, 0.07334308083731496), (93, 0.012316976579658316), (94, 0.01907226965516021), (95, 0.05104515227465128), (96, 0.013565583298967742), (97, 0.002690063897922005), (98, 0.008572823495267657), (99, 0.01801519617137221), (100, 0.028563020495361826), (101, 0.018591787132792206), (102, 0.028056166542979693), (103, 0.0123032918354912), (104, 0.03430494718154819), (105, 0.013406503710679831), (106, 0.008332335509806959), (107, 0.03347917611166285), (108, 0.14118463905195977), (109, 0.02163861091922127), (110, 0.012715713338884526), (111, 0.02828746346365642), (112, 0.015148038502496658), (113, 0.020706424109071673), (114, 0.03179225052033408), (115, 0.013927602637161234), (116, 0.039496554071564535), (117, 0.011931667760117845), (118, 0.03343904605223969), (119, 0.02414615681784392), (120, 0.016299553660240856), (121, 0.022142272753372688), (122, 0.031687922648544475), (123, 0.0315482356792044), (124, 0.006004796832629801), (125, 0.014473085383012512), (126, 0.027382763983812165), (127, 0.01965519488691969), (128, 0.038120695480728946), (129, 0.041281369949220374), (130, 0.01661936610613713), (131, 0.03710024300378254), (132, 0.02544701342093886), (133, 0.020321086342998194), (134, 0.02211218409305077), (135, 0.04636512028405173), (136, 0.017394731257330386), (137, 0.0176853009079769), (138, 0.026583966027164257), (139, 0.02314395948964026), (140, 0.02893734967237159), (141, 0.03329700489275527), (142, 0.024399679248427855), (143, 0.03844084138183601), (144, 0.011918592935291605), (145, 0.02747289502206858), (146, 0.013536315210126396), (147, 0.005003147334392769), (148, 0.011849540262039078), (149, 0.021455301461321304), (150, 0.03683575489616204), (151, 0.029145562021179048), (152, 0.036310276704465606), (153, 0.006029342198495927), (154, 0.03537002801162105), (155, 0.007785482436937467), (156, 0.03503187631334631), (157, 0.001404012905325973), (158, 0.03375799094701062), (159, 0.006093109200557301), (160, 0.043823146527124324), (161, 0.0500350168579889), (162, 0.023281279966019742), (163, 0.022157314149970738), (164, 0.03128501564676302), (165, 0.02139946529666867), (166, 0.27145342752472434), (167, 0.010683003259412639), (168, 0.018630193977857465), (169, 0.023341874474252858), (170, 0.01860553505725833), (171, 0.032704461401100796), (172, 0.025527919518921784), (173, 0.01789274589740969), (174, 0.029755452989928592), (175, 0.0077625347865883125), (176, 0.006379259857390445), (177, 0.013221899453612001), (178, 0.005877490531594915), (179, 0.00975414250230273), (180, 0.025193968005946428), (181, 0.05509036312997166), (182, 0.00877806062966308), (183, 0.01793149035618693), (184, 0.017655997832687613), (185, 0.027244370778424034), (186, 0.011131698729414899), (187, 0.009627967025217376), (188, 0.032350497817864525), (189, 0.018920309641615438), (190, 0.04956416510758979), (191, 0.02246840534543626), (192, 0.015072123117753938), (193, 0.028412757807949458), (194, 0.010728052348668598), (195, 0.02160920955222591), (196, 0.06460550437544071), (197, 0.05035740803180893), (198, 0.026986375597931656), (199, 0.02856693812581334), (200, 0.03212774898668368), (201, 0.0060600251482360685), (202, 0.01219859437183728), (203, 0.014915565544763256), (204, 0.024838953948462604), (205, 0.01796384631388225), (206, 0.0192191276743219), (207, 0.02564224685488435), (208, 0.021769889533901632), (209, 0.005700865794612127), (210, 0.026590734336964465), (211, 0.014639304121244257), (212, 0.005420796496045875), (213, 0.023388487779866317), (214, 0.012560515409863004), (215, 0.016271507428469015), (216, 0.02476972811634546), (217, 0.024321765474024766), (218, 0.00919889390518692), (219, 0.024448359985329435), (220, 0.025304349647139925), (221, 0.053250316988612975), (222, 0.05250736814622627), (223, 0.010345476806013915), (224, 0.015146170030557054), (225, 0.01730472437640057), (226, 0.03157858048097082), (227, 0.01173109043505819), (228, 0.02500830534248659), (229, 0.014034105205160727), (230, 0.03166743510301564), (231, 0.014916295234476271), (232, 0.04386200838408223), (233, 0.023847450189069107), (234, 0.005190001339177904), (235, 0.056763286281656035), (236, 0.01711015757086056), (237, 0.0612905086506011), (238, 0.037000814149557325), (239, 0.07053342660342687), (240, 0.01146554262655853), (241, 0.007311910839783898), (242, 0.002068888474352896), (243, 0.03953852635587277), (244, 0.0119272957367706), (245, 0.007822166387658747), (246, 0.04097476136418062), (247, 0.012514766872920025), (248, 0.03886858741357341), (249, 0.021580480391926487), (250, 0.013584727511231274), (251, 0.013527141655610357), (252, 0.04188655497528757), (253, 0.01953198515011502), (254, 0.017249515227094864), (255, 0.021786801258124325), (256, 0.02981051783051151), (257, 0.041925612456732764), (258, 0.019398588720249625), (259, 0.05857654932994534), (260, 0.012849470038973935), (261, 0.023274102739426813), (262, 0.019962989718549776), (263, 0.0729593755336789), (264, 0.016105081916969948), (265, 0.011543921903311228), (266, 0.039921784120011974), (267, 0.012120296484936793), (268, 0.038129061447851956), (269, 0.028257291968858775), (270, 0.01703465139934217), (271, 0.02013683653428069), (272, 0.043828894344449164), (273, 0.023951779837842094), (274, 0.017183549157474477), (275, 0.010462458043844046), (276, 0.016913135397259638), (277, 0.012659772877796115), (278, 0.03504592514798965), (279, 0.015578170645107248), (280, 0.03384026634950305), (281, 0.041834381131731824), (282, 0.013161712571601012), (283, 0.01712792779875982), (284, 0.03377532346505298), (285, 0.03213354226727813), (286, 0.026910123253885605), (287, 0.03368645865392643), (288, 0.012492900778981084), (289, 0.01588946673318146), (290, 0.017257438825445108), (291, 0.019952523398195626), (292, 0.022566137908761226), (293, 0.03556656915784745), (294, 0.0116492291187389), (295, 0.0168229191491402), (296, 0.03488678888686861), (297, 0.024049382402306925), (298, 0.022411594392220884), (299, 0.02480122110995207), (300, 0.026999219311175594), (301, 0.04822333032827156), (302, 0.023748843266462774), (303, 0.027772809497382558), (304, 0.0168190185648402), (305, 0.007945240761418391), (306, 0.013495406642763613), (307, 0.012936465748585481), (308, 0.027207932823497948), (309, 0.009647544035678579), (310, 0.04972646573349644), (311, 0.023444134148644387), (312, 0.012978936654379436), (313, 0.048824851291534466), (314, 0.006966566265616499), (315, 0.026580466883540866), (316, 0.036786918828078476), (317, 0.01702252486310231), (318, 0.01689420639300011), (319, 0.04580070873286017), (320, 0.006994192012247104), (321, 0.015373852653254179), (322, 0.0263468604882437), (323, 0.011821174524743443), (324, 0.03134600983142926), (325, 0.0174224165382377), (326, 0.01423276732059337), (327, 0.0280073328918659), (328, 0.058745816469108286), (329, 0.04061921182341715), (330, 0.0007226052530410518), (331, 0.00468286648527855), (332, 0.02887900088544986), (333, 0.02063844794300375), (334, 0.04428555450529542), (335, 0.03398485201724363), (336, 0.03478058190264783), (337, 0.016619629691373667), (338, 0.01627843271625211), (339, 0.008702756134381756), (340, 0.013202747581566374), (341, 0.018854442446802292), (342, 0.01685700753002987), (343, 0.013484772352108145), (344, 0.0204009878274923), (345, 0.023840055608306335), (346, 0.01725911776555093), (347, 0.01025755595988187), (348, 0.014527697060408021), (349, 0.009297216696000006), (350, 0.05835764853205557), (351, 0.04860700362573505), (352, 0.018879849891542188), (353, 0.006375969072503611), (354, 0.011359151600799304), (355, 0.015712549630393133), (356, 0.012100757383650084), (357, 0.02934517460005096), (358, 0.031208502525001597), (359, 0.011968349539133763), (360, 0.005618945794146533), (361, 0.024042887009379506), (362, 0.03137058594259116), (363, 0.04825202020211625), (364, 0.038024133011015426), (365, 0.004150224775672364), (366, 0.023470255040259097), (367, 0.014552710356670382), (368, 0.027768245241754), (369, 0.03461699729065324), (370, 0.03621482644666077), (371, 0.01129117784714796), (372, 0.03280312595411941), (373, 0.020829561062401167), (374, 0.018054296901520734), (375, 0.020948437924255145), (376, 0.02489785371451162), (377, 0.010258379904660614), (378, 0.014031611864111662), (379, 0.02583563187753336), (380, 0.03783338588628666), (381, 0.02405083293318147), (382, 0.01004408514061159), (383, 0.029041773495069253), (384, 0.04815316081290653), (385, 0.02374805373606605), (386, 0.01340694570341235), (387, 0.02037179994465644), (388, 0.018868253123489647), (389, 0.027166992432804), (390, 0.01652391056744645), (391, 0.01804919480730509), (392, 0.021225382144517104), (393, 0.01278472308578873), (394, 0.01687004371356082), (395, 0.026890566913440443), (396, 0.03195591386230614), (397, 0.03002694877594317), (398, 0.01759155464855357), (399, 0.03201822039714018), (400, 0.013049347900924298), (401, 0.0456691887095477), (402, 0.03918743722183297), (403, 0.007612275935957709), (404, 0.021934783586481488), (405, 0.027201919250783874), (406, 0.020323888161229712), (407, 0.013443339704873703), (408, 0.018060768842398132), (409, 0.0015435852717342988), (410, 0.017337886272545493), (411, 0.029520323792661427), (412, 0.01608909380353963), (413, 0.037162764464318106), (414, 0.039451079378606174), (415, 0.024785224973207867), (416, 0.006997870120935254), (417, 0.02739090786676692), (418, 0.01536713824753599), (419, 0.04179331054011027), (420, 0.03006617810154165), (421, 0.03313643224533168), (422, 0.010679650736617537), (423, 0.01757896972019747), (424, 0.03464160208902887), (425, 0.02582135981454036), (426, 0.017177014136028085), (427, 0.02592004126977311), (428, 0.03455783615601725), (429, 0.010653212584309204), (430, 0.05487043431163682), (431, 0.44046423460404455), (432, 0.026478767327269143), (433, 0.05038085923439618), (434, 0.01689207308054142), (435, 0.01575240989555709), (436, 0.024356098090820365), (437, 0.016313207210544443), (438, 0.034442687290201314), (439, 0.025585337722001132), (440, 0.015352111727269609), (441, 0.027142927547496955), (442, 0.016908068981679993), (443, 0.014933170859045145), (444, 0.016551560831834608), (445, 0.03955376248701639), (446, 0.017808757173636246), (447, 0.013592804100041066), (448, 0.03883032446040107), (449, 0.03251632231789908), (450, 0.01687167810847613), (451, 0.023494835253101976), (452, 0.013089587926029446), (453, 0.01687870784882417), (454, 0.019956858578870414), (455, 0.015759155484905443), (456, 0.02117072165142614), (457, 0.013463897353797757), (458, 0.04053458984638535), (459, 0.02766961839035888), (460, 0.011540399852284318), (461, 0.02653487188638238), (462, 0.005114203021143305), (463, 0.014161039285890508), (464, 0.04210236120557145), (465, 0.03884438048359905), (466, 0.014147165020818591), (467, 0.011769938155364163), (468, 0.05649378302447025), (469, 0.014526352953273003), (470, 0.031000042587918844), (471, 0.03416688142444828), (472, 0.00998593932457987), (473, 0.017704066663079634), (474, 0.016904335964898567), (475, 0.0055208322609195315), (476, 0.026662196625218387), (477, 0.01954431748303066), (478, 0.020501626935315532), (479, 0.026927698560456386), (480, 0.010849280877347597), (481, 0.025201269881786285), (482, 0.016933050085333422), (483, 0.03444344458483677), (484, 0.03395477857593716), (485, 0.035842133195007286), (486, 0.011896878122076756), (487, 0.04422405173467215), (488, 0.005426943735431599), (489, 0.029570673162133923), (490, 0.01872839542349198), (491, 0.018499160069818207), (492, 0.02428261149336522), (493, 0.023546649027912595), (494, 0.026316329695080604), (495, 0.008824402621805384), (496, 0.0073401489477361425), (497, 0.04454087533108193), (498, 0.023717768592490755), (499, 0.022831729593872477), (500, 0.019188125144224813), (501, 0.008249777789073773), (502, 0.03991478105809738), (503, 0.017470360674669016), (504, 0.025782330609528153), (505, 0.04287355515519015), (506, 0.015462814274023306), (507, 0.048286932397686555), (508, 0.023164404506244816), (509, 0.02712758653533479), (510, 0.024700691670172192), (511, 0.015729010694544347), (512, 0.03765031754760813), (513, 0.014398673460300923), (514, 0.015335618342305605), (515, 0.011562357983904998), (516, 0.013525035256412783), (517, 0.009934453622534437), (518, 0.03491710086323668), (519, 0.02051546322882497), (520, 0.02030038763553679), (521, 0.013579607302966711), (522, 0.003650258158573756), (523, 0.030013521116899786), (524, 0.019595613597951707), (525, 0.02041010427120368), (526, 0.030095003723028122), (527, 0.02402408474885951), (528, 0.019008328593113893), (529, 0.03368023740621696), (530, 0.019526419226696214), (531, 0.007107485619410452), (532, 0.022267764540725717), (533, 0.019849415044486916), (534, 0.01577219077446735), (535, 0.03469104931435649), (536, 0.056097879052473654), (537, 0.020938186657020633), (538, 0.03550691703736047), (539, 0.007253766847538564), (540, 0.04092859502500487), (541, 0.01014525906422557), (542, 0.012056682997836903), (543, 0.004122948202190332), (544, 0.02169259349776893), (545, 0.025511035622946023), (546, 0.033918744658480326), (547, 0.03657407919864667), (548, 0.0168897082608897), (549, 0.030079515427560325), (550, 0.011841280183415216), (551, 0.007117454226756869), (552, 0.022770159015625478), (553, 0.02310607865433094), (554, 0.034448055546549054), (555, 0.016270399778710688), (556, 0.06362511612808824), (557, 0.022128701262998218), (558, 0.01601783178943665), (559, 0.00845316922905891), (560, 0.0026707198313252693), (561, 0.012537622015215247), (562, 0.023842496341460576), (563, 0.05824424172538486), (564, 0.01387269155981532), (565, 0.009972069376196336), (566, 0.02759966068382861), (567, 0.02101593957056909), (568, 0.045212883435959236), (569, 0.008307446572650857), (570, 0.0036261922677336862), (571, 0.011824681736616037), (572, 0.012874352534415167), (573, 0.005999713833916805), (574, 0.0038372272617907916), (575, 0.05221897532263348), (576, 0.01935146404420576), (577, 0.032309589101286174), (578, 0.036364609700483976), (579, 0.04319574390716188), (580, 0.02436565097177778), (581, 0.060253108805028315), (582, 0.054592860760390854), (583, 0.035536344731896846), (584, 0.012537722294318304), (585, 0.009717044894305112), (586, 0.009808513022569722), (587, 0.0264939452385678), (588, 0.007719017758561852), (589, 0.023455388853907393), (590, 0.01685459688620335), (591, 0.008563111220554503), (592, 0.0018462393746787357), (593, 0.019650949353118168), (594, 0.024860864416576436), (595, 0.027547106226325148), (596, 0.0479957239143018), (597, 0.020390921679035078), (598, 0.010224409927298691), (599, 0.02003237149219415), (600, 0.015728328378447214), (601, 0.018409948529535404), (602, 0.03678893707362162), (603, 0.01668271183826943), (604, 0.008559861617443052), (605, 0.010822841154903843), (606, 0.05107644814186273), (607, 0.028270726938459754), (608, 0.011188862679263988), (609, 0.005571110694891081), (610, 0.015445909084930928), (611, 0.015857147897346144), (612, 0.014308331475632428), (613, 0.023411172370514904), (614, 0.0038860272851560466), (615, 0.021762352198457933), (616, 0.021823575708367828), (617, 0.00874035788181497), (618, 0.009229248704946827), (619, 0.023318694479641022), (620, 0.04662067529197414), (621, 0.027621151214981286), (622, 0.028587551048688018), (623, 0.049046778000001644), (624, 0.028721543210668866), (625, 0.039514957914382906), (626, 0.027126087795649085), (627, 0.005556396200358642), (628, 0.016558024602015848), (629, 0.023961307981247515), (630, 0.028762570793209385), (631, 0.017529406678284763), (632, 0.02729577403688125), (633, 0.04505404862064339), (634, 0.0023330805030385908), (635, 0.012370776345370536), (636, 0.022609441653953607), (637, 0.01855140877716551), (638, 0.006114002171392966), (639, 0.006736044462963701), (640, 0.02340065332400094), (641, 0.01934049493293068), (642, 0.020166796950606043), (643, 0.011691584989275803), (644, 0.013627393105469312), (645, 0.02792690202836985), (646, 0.02882198357420145), (647, 0.01815620559597538), (648, 0.026234561068877876), (649, 0.01852840964676536), (650, 0.022796179840528886), (651, 0.014332959604872832), (652, 0.025347396687013614), (653, 0.014070854793624875), (654, 0.036677789597962536), (655, 0.021960103565573992), (656, 0.01790448799083086), (657, 0.008033806831329994), (658, 0.018795234157062062), (659, 0.009303893771821255), (660, 0.014653438197493554), (661, 0.01689378248357342), (662, 0.016777137410497234), (663, 0.03666419287476248), (664, 0.010075296000621908), (665, 0.010499551159524492), (666, 0.032533930771500234), (667, 0.006884181200359726), (668, 0.025911724338139125), (669, 0.002150856032012374), (670, 0.021512446426313052), (671, 0.019255637071736886), (672, 0.007107492315260124), (673, 0.012980042116097452), (674, 0.03620138772052302), (675, 0.03328980434181586), (676, 0.02824675072324828), (677, 0.021656464577366093), (678, 0.018691379631899558), (679, 0.03602508538789385), (680, 0.016132337634129114), (681, 0.021914896490610628), (682, 0.01574605905297689), (683, 0.027077665165958057), (684, 0.01578361413410115), (685, 0.051743424741976664), (686, 0.062095106188789044), (687, 0.008596760643408283), (688, 0.02114348411627088), (689, 0.019654837254333153), (690, 0.013397796808746323), (691, 0.020125134836427565), (692, 0.02272462894594473), (693, 0.03628742957983385), (694, 0.015588015806802661), (695, 0.014309682396527227), (696, 0.0429046880740513), (697, 0.03079050941622072), (698, 0.01723328667437587), (699, 0.018891374790477623), (700, 0.020681870591824237), (701, 0.0032797607080812348), (702, 0.03241656277881041), (703, 0.016007264736052223), (704, 0.01431926537576044), (705, 0.008308636959176264), (706, 0.01221621954083397), (707, 0.02541130570630369), (708, 0.02851559984194888), (709, 0.016454984360380297), (710, 0.037960946819820526), (711, 0.028104563060069025), (712, 0.030276803977403212), (713, 0.03495618357919711), (714, 0.006425106816567756), (715, 0.06172678550993223), (716, 0.04265070930270245), (717, 0.028933508382715065), (718, 0.019412087293600024), (719, 0.018384815353119636), (720, 0.01501603210702894), (721, 0.05246542051069389), (722, 0.01737934874503052), (723, 0.005607026532387907), (724, 0.014410555457490912), (725, 0.033586758275252225), (726, 0.039882311924317015), (727, 0.007107137963573377), (728, 0.01335022901837676), (729, 0.014720332022161397), (730, 0.0077637940247531545), (731, 0.012125051763322743), (732, 0.020883441426527538), (733, 0.017438631647270605), (734, 0.013079988009292512), (735, 0.02211275634727766), (736, 0.0550539079048376), (737, 0.028417877717715416), (738, 0.016916569088997538), (739, 0.014966775217432718), (740, 0.020813551327879556), (741, 0.017537658804438493), (742, 0.027725310404881517), (743, 0.02631235846223269), (744, 0.042890095856830845), (745, 0.04054403727082704), (746, 0.04979395426905828), (747, 0.023873036585283954), (748, 0.030005333752512395), (749, 0.036692628524537474), (750, 0.03571218321562514), (751, 0.050216180401229535), (752, 0.05402180433219726), (753, 0.03240639321434335), (754, 0.030137970987450444), (755, 0.019081962540917773), (756, 0.01803334491550178), (757, 0.019833063572331895), (758, 0.01809728977539211), (759, 0.030710584100152098), (760, 0.0327835089548778), (761, 0.010842524621813182), (762, 0.020798873347655768), (763, 0.021935751914853006), (764, 0.011515773713435184), (765, 0.024794158421041136), (766, 0.01313052630126551), (767, 0.020471402293569554), (768, 0.015150785931026268), (769, 0.017533277779903617), (770, 0.006291192811644768), (771, 0.017120978962423906), (772, 0.010620235114948636), (773, 0.026148877421490406), (774, 0.00857607216368489), (775, 0.017123960960120775), (776, 0.021413592606506344), (777, 0.06190124106218305), (778, 0.04748741612695292), (779, 0.043587954494356526), (780, 0.01691302962278336), (781, 0.03323206089636439), (782, 0.03277359890417547), (783, 0.016329748522296995), (784, 0.011144180519489906), (785, 0.06066971702761683), (786, 0.0213099738193451), (787, 0.039227942822715876), (788, 0.017890955902969782), (789, 0.0134413267525011), (790, 0.027813416719038787), (791, 0.021391015670588383), (792, 0.026284848100016106), (793, 0.01264617691761954), (794, 0.019359216020177775), (795, 0.015246203427935492), (796, 0.01066767588780418), (797, 0.034219913733114504), (798, 0.030750256290442098), (799, 0.03354973742421951), (800, 0.012601803412511818), (801, 0.009017588495037952), (802, 0.0023077545600858358), (803, 0.013865499919174306), (804, 0.013437991930957814), (805, 0.012207341017561265), (806, 0.015001515956373767), (807, 0.03421879070169221), (808, 0.04992205828841121), (809, 0.03354475854653795), (810, 0.028997768403365164), (811, 0.03133661341985493), (812, 0.02923195153724416), (813, 0.029767706448872076), (814, 0.03349891811276834), (815, 0.015440755003938357), (816, 0.03673675509111866), (817, 0.012966681351109663), (818, 0.010851574637847018), (819, 0.035424683089893605), (820, 0.04638786020197809), (821, 0.04574329830872572), (822, 0.018548564825926026), (823, 0.013239033292476464), (824, 0.02440580596261262), (825, 0.036639998991736776), (826, 0.011975990518376216), (827, 0.013034995826659816), (828, 0.021167226007294978), (829, 0.010469235963533568), (830, 0.015841201505549286), (831, 0.00987170102450666), (832, 0.010830347290468363), (833, 0.0444840304320224), (834, 0.042773032969565986), (835, 0.017749124940618973), (836, 0.008754868484768938), (837, 0.03241061472936427), (838, 0.007835721625913682), (839, 0.00803472316359565), (840, 0.017708838814958407), (841, 0.0056764881777964515), (842, 0.014582864409381288), (843, 0.02314806070767659), (844, 0.03335729143111706), (845, 0.023911069100222445), (846, 0.007363166356902288), (847, 0.04911093624204501), (848, 0.026270395822007672), (849, 0.03789033972706031), (850, 0.01805993564043009), (851, 0.019393385332628597), (852, 0.033140846710995465), (853, 0.015559747687631837), (854, 0.01656607500639369), (855, 0.029890749858474144), (856, 0.005384391295087325), (857, 0.023450120891640485), (858, 0.02990198634950338), (859, 0.04142141898808907), (860, 0.002910294425544863), (861, 0.021695551828932992), (862, 0.017758768082307787), (863, 0.013861387462372634), (864, 0.024162057282915424), (865, 0.011322490220324877), (866, 0.0569651237214601), (867, 0.02560834173661805), (868, 0.013271304083459376), (869, 0.042272036238156015), (870, 0.04354272443088419), (871, 0.024893687356836863), (872, 0.024688735557464474), (873, 0.05650672117146578), (874, 0.016651550077625664), (875, 0.008559624515483265), (876, 0.03727066652398664), (877, 0.03842646899524071), (878, 0.0361353095541603), (879, 0.010528810408555012), (880, 0.012099201861775127), (881, 0.06069330945317959), (882, 0.02124538810668151), (883, 0.04343173178636675), (884, 0.026474780309475938), (885, 0.022356268801209642), (886, 0.022459386438236313), (887, 0.017379088798713426), (888, 0.00832560197872141), (889, 0.027482155345745586), (890, 0.03404738995046859), (891, 0.022238600844785777), (892, 0.005337147570110799), (893, 0.01732078194474375), (894, 0.016214867632347408), (895, 0.03187861296789901), (896, 0.024133246992351153), (897, 0.06802002351141062), (898, 0.021789402589980668), (899, 0.013658827322602412), (900, 0.020083978829178728), (901, 0.03617670712622034), (902, 0.012797745609592565), (903, 0.016021220529316163), (904, 0.018842061649030527), (905, 0.020544185662077014), (906, 0.04259078157121865), (907, 0.03069950193445148), (908, 0.0277276620263219), (909, 0.036678567841856455), (910, 0.01020256935572469), (911, 0.05430195096283973), (912, 0.028219253180911907), (913, 0.008442275326961025), (914, 0.04332366269072414), (915, 0.037994159348648776), (916, 0.0388578915627602), (917, 0.020089980011318995), (918, 0.024649508376278436), (919, 0.010364775951498647), (920, 0.030915960953327798), (921, 0.011944862627589713), (922, 0.02882464603167598), (923, 0.0078616064112317), (924, 0.030861333022480494), (925, 0.01044527198637686), (926, 0.01865671760576324), (927, 0.01624071820670704), (928, 0.006922107016571056), (929, 0.01889803366254056), (930, 0.015678627757263978), (931, 0.013214280518090234), (932, 0.016216281855679388), (933, 0.023921230304317757), (934, 0.011415494144154494), (935, 0.009469222808114932), (936, 0.007528401096872818), (937, 0.02309989158741734), (938, 0.03402597527721803), (939, 0.024082249927759092), (940, 0.04289152326375584), (941, 0.04944514132412865), (942, 0.047823386626086185), (943, 0.010756539648760811), (944, 0.014371238356552742), (945, 0.01467160332725652), (946, 0.03678300042064891), (947, 0.032306238454323837), (948, 0.05929809608809786), (949, 0.020621806474049015), (950, 0.02335264617924597), (951, 0.01847638771657039), (952, 0.016764937395716415), (953, 0.01882673681623339), (954, 0.013026094301021269), (955, 0.010914927999688103), (956, 0.02187357374950662), (957, 0.01248714265785071), (958, 0.011601914708769307), (959, 0.011785971302563812), (960, 0.007969983931134005), (961, 0.03760893617903558), (962, 0.056883410416794865), (963, 0.023511967392587332), (964, 0.03259741658123347), (965, 0.004464263862816858), (966, 0.011607295062683144), (967, 0.01995321855204081), (968, 0.015093947412204115), (969, 0.029252988487508597), (970, 0.009420953498177335), (971, 0.03354657659413569), (972, 0.0015013862424878943), (973, 0.027749701888148397), (974, 0.032180249379280615), (975, 0.0303561495074684), (976, 0.012675285250014845), (977, 0.04413666824552357), (978, 0.014909081768577635), (979, 0.010831783127157697), (980, 0.0342170985727311), (981, 0.024469038232114642), (982, 0.010756596917949252), (983, 0.010253625371719168), (984, 0.017945746510123938), (985, 0.033658259149255354), (986, 0.005120998227039096), (987, 0.006725535006325895), (988, 0.026793970779134535), (989, 0.01124232206563891), (990, 0.01318392745643071), (991, 0.014836653568401104), (992, 0.014685872262744893), (993, 0.02363544084123186), (994, 0.01339593240654044), (995, 0.03306967329775738), (996, 0.03278644902085983), (997, 0.02748709921095835), (998, 0.03585871661844061), (999, 0.01896384374753668), (1000, 0.012144702913571673), (1001, 0.016822169861508827), (1002, 0.01310968880996307), (1003, 0.02785197570192076), (1004, 0.0230509304004355), (1005, 0.00933114018280219), (1006, 0.012371112426071987), (1007, 0.03544215658131973), (1008, 0.015715419645921182), (1009, 0.028489490603570287), (1010, 0.0265196199788364), (1011, 0.00966521876076235), (1012, 0.04009161155867254), (1013, 0.017521503339478797), (1014, 0.027164392597962505), (1015, 0.026795617594486475), (1016, 0.021129976251711716), (1017, 0.0009320666817372615), (1018, 0.02476942588866552), (1019, 0.03287814834744195), (1020, 0.009294506678800345), (1021, 0.020010696937933826), (1022, 0.009600858944894184), (1023, 0.0031823441475950964), (1024, 0.009311268060907594), (1025, 0.027645048836175228), (1026, 0.047458852976044456), (1027, 0.015210403958579746), (1028, 0.012824175379712092), (1029, 0.05047936591473695), (1030, 0.032420053770743654), (1031, 0.020073532043528804), (1032, 0.006801427621880867), (1033, 0.014051067281854832), (1034, 0.038983878317301233), (1035, 0.02060526285753896), (1036, 0.009402242992158095), (1037, 0.007393482637643643), (1038, 0.04121363667648019), (1039, 0.02615951920541054), (1040, 0.025810153792279883), (1041, 0.012693358707946146), (1042, 0.019267474256263885), (1043, 0.02379230175035206), (1044, 0.029974941963657565), (1045, 0.023354539664126543), (1046, 0.008567850575795484), (1047, 0.03715976786727458), (1048, 0.012950683397792019), (1049, 0.020349873729080634), (1050, 0.015189290794583053), (1051, 0.03395432727939538), (1052, 0.007908989498194113), (1053, 0.0052398993987189165), (1054, 0.015328814694112238), (1055, 0.00926885891428517), (1056, 0.03658482410658227), (1057, 0.005558162617306598), (1058, 0.007712094459006691), (1059, 0.028733953269697445), (1060, 0.04039780178912287), (1061, 0.08884381913492914), (1062, 0.03357142336426829), (1063, 0.04338902920843207), (1064, 0.004625011793008784), (1065, 0.02539902070296293), (1066, 0.045852584336319405), (1067, 0.04757845287746058), (1068, 0.027281877666941408), (1069, 0.02214916246443486), (1070, 0.01626473967609046), (1071, 0.05190675002500546), (1072, 0.02535114111801826), (1073, 0.021992608370054817), (1074, 0.03193322846111674), (1075, 0.02570233408949043), (1076, 0.03521990419095263), (1077, 0.0209543171828329), (1078, 0.04601591136543856), (1079, 0.037683281748510995), (1080, 0.0217211515114216), (1081, 0.013828890972231032), (1082, 0.016607693161607793), (1083, 0.018209036285282774), (1084, 0.008198856863427308), (1085, 0.01068829984418091), (1086, 0.044810791747566914), (1087, 0.02400698788096805), (1088, 0.02531259129252405), (1089, 0.0313475954497702), (1090, 0.039679195740070436), (1091, 0.02163745589327587), (1092, 0.037085634278015964), (1093, 0.03679207839050852), (1094, 0.09496557342050148), (1095, 0.021827717677108945), (1096, 0.0181349547227196), (1097, 0.019865092938300657), (1098, 0.09000901990766665), (1099, 0.06295757424261132), (1100, 0.011554643607628201), (1101, 0.17635409466953972), (1102, 0.028954331247682118), (1103, 0.012910281419218649), (1104, 0.004477533675650103), (1105, 0.027480858709241808), (1106, 0.02457740178487057), (1107, 0.019880921111686174), (1108, 0.012146892225713316), (1109, 0.02763763591773314), (1110, 0.035809130629280705), (1111, 0.041439731595316935), (1112, 0.013507018313703113), (1113, 0.05833331600192178), (1114, 0.04282552028716079), (1115, 0.027223019314093724), (1116, 0.028408101373292548), (1117, 0.019227599964567174), (1118, 0.03117038036983748), (1119, 0.01774712775479836), (1120, 0.02533771951641604), (1121, 0.03135669698198653), (1122, 0.011876505863678343), (1123, 0.03296201900606849), (1124, 0.03881802343552312), (1125, 0.013054310316406364), (1126, 0.01184543474833845), (1127, 0.06047593633840689), (1128, 0.01746539996664978), (1129, 0.008795409044337198), (1130, 0.0285225849334426), (1131, 0.03131189976017688), (1132, 0.028311862851904682), (1133, 0.015063474234492877), (1134, 0.02505567021430363), (1135, 0.015544392043961288), (1136, 0.024527643024580704), (1137, 0.01381713147803099), (1138, 0.007587293562262422), (1139, 0.12418069570592412), (1140, 0.017570156673432986), (1141, 0.013390038686059197), (1142, 0.014153155483607318), (1143, 0.013504377885953794), (1144, 0.015878094238838545), (1145, 0.027943649308658353), (1146, 0.044712391116885915), (1147, 0.017009721015633906), (1148, 0.0333037347923157), (1149, 0.029564893122820474), (1150, 0.009292665343291843), (1151, 0.010151750582045378), (1152, 0.022299952540975426), (1153, 0.03499589158457823), (1154, 0.007196506358980374), (1155, 0.01463726352046114), (1156, 0.021996764075615412), (1157, 0.0275829740052771), (1158, 0.00797133868370575), (1159, 0.037253554218424904), (1160, 0.034862620902999436), (1161, 0.027204590183855605), (1162, 0.015050505347054684), (1163, 0.030039041750125096), (1164, 0.015223120086028798), (1165, 0.007124942915831673), (1166, 0.021794084776562108), (1167, 0.005296195215107366), (1168, 0.0123580300510101), (1169, 0.026478626837630515), (1170, 0.007234130247403413), (1171, 0.031711684048726395), (1172, 0.02737341894909032), (1173, 0.01671749622823999), (1174, 0.041210601592169084), (1175, 0.011294701831040012), (1176, 0.013959223661475378), (1177, 0.013566246092813143), (1178, 0.021361979101648613), (1179, 0.05988125377439448), (1180, 0.055471352021012936), (1181, 0.027379165553205347), (1182, 0.022989746697778812), (1183, 0.02368138983924728), (1184, 0.04293842880307581), (1185, 0.011654979230199435), (1186, 0.02459146489975743), (1187, 0.03874684496198929), (1188, 0.05597792744272855), (1189, 0.15511731720804964), (1190, 0.0148163727724841), (1191, 0.027755254089148966), (1192, 0.026756816579486423), (1193, 0.02560378183068585), (1194, 0.029089825603849786), (1195, 0.01934108069283888), (1196, 0.021495918849581457), (1197, 0.014059498401311408), (1198, 0.02799268199193741), (1199, 0.018402996582064117), (1200, 0.010549113728893306), (1201, 0.0470145313847929), (1202, 0.02168889716389993), (1203, 0.0066087484596249095), (1204, 0.06716110429539862), (1205, 0.02827226675454301), (1206, 0.022994501093039223), (1207, 0.0483783481175543), (1208, 0.03654774836326982), (1209, 0.01507102592580253), (1210, 0.05563291999425975), (1211, 0.00953436129729406), (1212, 0.017711334299702855), (1213, 0.03281991349145619), (1214, 0.011647850990293925), (1215, 0.002588810164617634), (1216, 0.020852780378399733), (1217, 0.02221543122945806), (1218, 0.04574187000596733), (1219, 0.015605868652145858), (1220, 0.024488862410207833), (1221, 0.023609738546647444), (1222, 0.010382110813398598), (1223, 0.024403910014852932), (1224, 0.03986974115811835), (1225, 0.012679227219564305), (1226, 0.007387042948912837), (1227, 0.0047700440388328625), (1228, 0.0075294786484970296), (1229, 0.05767086329061718), (1230, 0.14135676793446966), (1231, 0.019198560548269936), (1232, 0.03621550731430179), (1233, 0.017900230405310906), (1234, 0.01994493971083876), (1235, 0.010831028823005469), (1236, 0.028985149301821295), (1237, 0.02012674755037286), (1238, 0.016948089749411876), (1239, 0.03340618272467214), (1240, 0.028070132699087483), (1241, 0.06491569275797092), (1242, 0.00697589212397713), (1243, 0.00673433245609342), (1244, 0.028472047700922584), (1245, 0.04051267416475243), (1246, 0.007428020430260439), (1247, 0.017742581271321663)]\n"
     ]
    }
   ],
   "source": [
    "print(similarity_score)"
   ]
  },
  {
   "cell_type": "code",
   "execution_count": 75,
   "id": "58afa835",
   "metadata": {},
   "outputs": [],
   "source": [
    "sorted_sim = sorted(similarity_score, key = lambda x:x[1], reverse = True)"
   ]
  },
  {
   "cell_type": "code",
   "execution_count": 76,
   "id": "25aec24d",
   "metadata": {},
   "outputs": [
    {
     "name": "stdout",
     "output_type": "stream",
     "text": [
      "[(30, 1.0000000000000002), (431, 0.44046423460404455), (166, 0.27145342752472434), (1101, 0.17635409466953972), (1189, 0.15511731720804964), (1230, 0.14135676793446966), (108, 0.14118463905195977), (1139, 0.12418069570592412), (1094, 0.09496557342050148), (1098, 0.09000901990766665), (1061, 0.08884381913492914), (50, 0.085139059566272), (92, 0.07334308083731496), (263, 0.0729593755336789), (239, 0.07053342660342687), (897, 0.06802002351141062), (1204, 0.06716110429539862), (1241, 0.06491569275797092), (196, 0.06460550437544071), (556, 0.06362511612808824), (1099, 0.06295757424261132), (686, 0.062095106188789044), (10, 0.06204931299171919), (777, 0.06190124106218305), (715, 0.06172678550993223), (237, 0.0612905086506011), (881, 0.06069330945317959), (785, 0.06066971702761683), (86, 0.060538363356398686), (1127, 0.06047593633840689), (581, 0.060253108805028315), (1179, 0.05988125377439448), (948, 0.05929809608809786), (328, 0.058745816469108286), (259, 0.05857654932994534), (350, 0.05835764853205557), (1113, 0.05833331600192178), (563, 0.05824424172538486), (1229, 0.05767086329061718), (866, 0.0569651237214601), (962, 0.056883410416794865), (235, 0.056763286281656035), (873, 0.05650672117146578), (468, 0.05649378302447025), (536, 0.056097879052473654), (1188, 0.05597792744272855), (1210, 0.05563291999425975), (1180, 0.055471352021012936), (181, 0.05509036312997166), (736, 0.0550539079048376), (430, 0.05487043431163682), (49, 0.05465744877408031), (582, 0.054592860760390854), (73, 0.05458027501001318), (9, 0.054510276281180194), (911, 0.05430195096283973), (752, 0.05402180433219726), (221, 0.053250316988612975), (222, 0.05250736814622627), (721, 0.05246542051069389), (575, 0.05221897532263348), (1071, 0.05190675002500546), (685, 0.051743424741976664), (77, 0.05173119832039193), (37, 0.05142256500303919), (606, 0.05107644814186273), (95, 0.05104515227465128), (1029, 0.05047936591473695), (433, 0.05038085923439618), (197, 0.05035740803180893), (751, 0.050216180401229535), (64, 0.050079980084112755), (161, 0.0500350168579889), (808, 0.04992205828841121), (746, 0.04979395426905828), (310, 0.04972646573349644), (190, 0.04956416510758979), (941, 0.04944514132412865), (847, 0.04911093624204501), (623, 0.049046778000001644), (1, 0.04892691455606883), (313, 0.048824851291534466), (351, 0.04860700362573505), (85, 0.04849320823336766), (1207, 0.0483783481175543), (507, 0.048286932397686555), (363, 0.04825202020211625), (301, 0.04822333032827156), (384, 0.04815316081290653), (596, 0.0479957239143018), (942, 0.047823386626086185), (74, 0.047701728479945485), (54, 0.04770072308097596), (6, 0.04764682831013372), (1067, 0.04757845287746058), (778, 0.04748741612695292), (1026, 0.047458852976044456), (41, 0.04743316793104746), (39, 0.04705836703787425), (1201, 0.0470145313847929), (620, 0.04662067529197414), (820, 0.04638786020197809), (135, 0.04636512028405173), (1078, 0.04601591136543856), (1066, 0.045852584336319405), (319, 0.04580070873286017), (821, 0.04574329830872572), (1218, 0.04574187000596733), (401, 0.0456691887095477), (76, 0.045284283966046), (568, 0.045212883435959236), (633, 0.04505404862064339), (32, 0.04495232863421622), (1086, 0.044810791747566914), (1146, 0.044712391116885915), (497, 0.04454087533108193), (833, 0.0444840304320224), (79, 0.04437752185945697), (334, 0.04428555450529542), (487, 0.04422405173467215), (977, 0.04413666824552357), (232, 0.04386200838408223), (272, 0.043828894344449164), (160, 0.043823146527124324), (779, 0.043587954494356526), (69, 0.04357066812071515), (870, 0.04354272443088419), (883, 0.04343173178636675), (1063, 0.04338902920843207), (914, 0.04332366269072414), (579, 0.04319574390716188), (43, 0.04301128473400697), (1184, 0.04293842880307581), (696, 0.0429046880740513), (940, 0.04289152326375584), (744, 0.042890095856830845), (56, 0.04287470301325779), (505, 0.04287355515519015), (1114, 0.04282552028716079), (834, 0.042773032969565986), (716, 0.04265070930270245), (906, 0.04259078157121865), (53, 0.042363276757905945), (869, 0.042272036238156015), (464, 0.04210236120557145), (257, 0.041925612456732764), (252, 0.04188655497528757), (281, 0.041834381131731824), (419, 0.04179331054011027), (1111, 0.041439731595316935), (859, 0.04142141898808907), (129, 0.041281369949220374), (1038, 0.04121363667648019), (1174, 0.041210601592169084), (246, 0.04097476136418062), (540, 0.04092859502500487), (329, 0.04061921182341715), (745, 0.04054403727082704), (458, 0.04053458984638535), (1245, 0.04051267416475243), (1060, 0.04039780178912287), (1012, 0.04009161155867254), (266, 0.039921784120011974), (502, 0.03991478105809738), (726, 0.039882311924317015), (1224, 0.03986974115811835), (1090, 0.039679195740070436), (445, 0.03955376248701639), (243, 0.03953852635587277), (625, 0.039514957914382906), (116, 0.039496554071564535), (414, 0.039451079378606174), (787, 0.039227942822715876), (402, 0.03918743722183297), (1034, 0.038983878317301233), (248, 0.03886858741357341), (916, 0.0388578915627602), (465, 0.03884438048359905), (448, 0.03883032446040107), (1124, 0.03881802343552312), (1187, 0.03874684496198929), (33, 0.0386975136558105), (16, 0.038654047241063555), (143, 0.03844084138183601), (877, 0.03842646899524071), (268, 0.038129061447851956), (128, 0.038120695480728946), (364, 0.038024133011015426), (915, 0.037994159348648776), (710, 0.037960946819820526), (849, 0.03789033972706031), (380, 0.03783338588628666), (1079, 0.037683281748510995), (512, 0.03765031754760813), (961, 0.03760893617903558), (876, 0.03727066652398664), (1159, 0.037253554218424904), (413, 0.037162764464318106), (1047, 0.03715976786727458), (46, 0.03712236571041526), (131, 0.03710024300378254), (1092, 0.037085634278015964), (238, 0.037000814149557325), (23, 0.03690569091088004), (150, 0.03683575489616204), (1093, 0.03679207839050852), (602, 0.03678893707362162), (316, 0.036786918828078476), (946, 0.03678300042064891), (816, 0.03673675509111866), (749, 0.036692628524537474), (909, 0.036678567841856455), (654, 0.036677789597962536), (663, 0.03666419287476248), (825, 0.036639998991736776), (1056, 0.03658482410658227), (547, 0.03657407919864667), (21, 0.0365488815030757), (1208, 0.03654774836326982), (578, 0.036364609700483976), (152, 0.036310276704465606), (693, 0.03628742957983385), (1232, 0.03621550731430179), (370, 0.03621482644666077), (674, 0.03620138772052302), (901, 0.03617670712622034), (878, 0.0361353095541603), (679, 0.03602508538789385), (998, 0.03585871661844061), (485, 0.035842133195007286), (1110, 0.035809130629280705), (750, 0.03571218321562514), (293, 0.03556656915784745), (583, 0.035536344731896846), (538, 0.03550691703736047), (1007, 0.03544215658131973), (819, 0.035424683089893605), (154, 0.03537002801162105), (1076, 0.03521990419095263), (278, 0.03504592514798965), (156, 0.03503187631334631), (1153, 0.03499589158457823), (713, 0.03495618357919711), (518, 0.03491710086323668), (296, 0.03488678888686861), (1160, 0.034862620902999436), (336, 0.03478058190264783), (11, 0.03473113037598872), (535, 0.03469104931435649), (424, 0.03464160208902887), (369, 0.03461699729065324), (428, 0.03455783615601725), (554, 0.034448055546549054), (483, 0.03444344458483677), (438, 0.034442687290201314), (104, 0.03430494718154819), (28, 0.034237587611122965), (797, 0.034219913733114504), (807, 0.03421879070169221), (980, 0.0342170985727311), (471, 0.03416688142444828), (890, 0.03404738995046859), (938, 0.03402597527721803), (335, 0.03398485201724363), (484, 0.03395477857593716), (1051, 0.03395432727939538), (546, 0.033918744658480326), (280, 0.03384026634950305), (284, 0.03377532346505298), (158, 0.03375799094701062), (287, 0.03368645865392643), (529, 0.03368023740621696), (985, 0.033658259149255354), (725, 0.033586758275252225), (1062, 0.03357142336426829), (799, 0.03354973742421951), (971, 0.03354657659413569), (809, 0.03354475854653795), (814, 0.03349891811276834), (107, 0.03347917611166285), (118, 0.03343904605223969), (1239, 0.03340618272467214), (844, 0.03335729143111706), (1148, 0.0333037347923157), (141, 0.03329700489275527), (675, 0.03328980434181586), (781, 0.03323206089636439), (852, 0.033140846710995465), (421, 0.03313643224533168), (995, 0.03306967329775738), (1123, 0.03296201900606849), (78, 0.03292115981470166), (31, 0.03290727015600754), (1019, 0.03287814834744195), (1213, 0.03281991349145619), (372, 0.03280312595411941), (996, 0.03278644902085983), (760, 0.0327835089548778), (782, 0.03277359890417547), (171, 0.032704461401100796), (964, 0.03259741658123347), (666, 0.032533930771500234), (81, 0.032529713713843764), (449, 0.03251632231789908), (1030, 0.032420053770743654), (702, 0.03241656277881041), (837, 0.03241061472936427), (753, 0.03240639321434335), (188, 0.032350497817864525), (577, 0.032309589101286174), (947, 0.032306238454323837), (974, 0.032180249379280615), (285, 0.03213354226727813), (200, 0.03212774898668368), (399, 0.03201822039714018), (396, 0.03195591386230614), (1074, 0.03193322846111674), (895, 0.03187861296789901), (71, 0.03185791319444818), (114, 0.03179225052033408), (1171, 0.031711684048726395), (122, 0.031687922648544475), (230, 0.03166743510301564), (226, 0.03157858048097082), (123, 0.0315482356792044), (362, 0.03137058594259116), (1121, 0.03135669698198653), (1089, 0.0313475954497702), (324, 0.03134600983142926), (811, 0.03133661341985493), (1131, 0.03131189976017688), (164, 0.03128501564676302), (358, 0.031208502525001597), (1118, 0.03117038036983748), (470, 0.031000042587918844), (920, 0.030915960953327798), (924, 0.030861333022480494), (697, 0.03079050941622072), (798, 0.030750256290442098), (759, 0.030710584100152098), (907, 0.03069950193445148), (975, 0.0303561495074684), (712, 0.030276803977403212), (35, 0.030244836720032506), (754, 0.030137970987450444), (526, 0.030095003723028122), (549, 0.030079515427560325), (420, 0.03006617810154165), (1163, 0.030039041750125096), (397, 0.03002694877594317), (523, 0.030013521116899786), (748, 0.030005333752512395), (1044, 0.029974941963657565), (0, 0.02993614989464271), (858, 0.02990198634950338), (855, 0.029890749858474144), (256, 0.02981051783051151), (813, 0.029767706448872076), (174, 0.029755452989928592), (489, 0.029570673162133923), (1149, 0.029564893122820474), (411, 0.029520323792661427), (357, 0.02934517460005096), (969, 0.029252988487508597), (812, 0.02923195153724416), (151, 0.029145562021179048), (1194, 0.029089825603849786), (383, 0.029041773495069253), (810, 0.028997768403365164), (1236, 0.028985149301821295), (1102, 0.028954331247682118), (140, 0.02893734967237159), (717, 0.028933508382715065), (332, 0.02887900088544986), (922, 0.02882464603167598), (646, 0.02882198357420145), (630, 0.028762570793209385), (1059, 0.028733953269697445), (624, 0.028721543210668866), (40, 0.028674810997312776), (52, 0.028655506687412978), (622, 0.028587551048688018), (199, 0.02856693812581334), (100, 0.028563020495361826), (2, 0.02852659148012477), (1130, 0.0285225849334426), (708, 0.02851559984194888), (1009, 0.028489490603570287), (1244, 0.028472047700922584), (737, 0.028417877717715416), (193, 0.028412757807949458), (1116, 0.028408101373292548), (1132, 0.028311862851904682), (111, 0.02828746346365642), (1205, 0.02827226675454301), (607, 0.028270726938459754), (269, 0.028257291968858775), (676, 0.02824675072324828), (912, 0.028219253180911907), (711, 0.028104563060069025), (1240, 0.028070132699087483), (102, 0.028056166542979693), (327, 0.0280073328918659), (1198, 0.02799268199193741), (72, 0.027979304838417714), (1145, 0.027943649308658353), (645, 0.02792690202836985), (1003, 0.02785197570192076), (790, 0.027813416719038787), (303, 0.027772809497382558), (368, 0.027768245241754), (1191, 0.027755254089148966), (973, 0.027749701888148397), (908, 0.0277276620263219), (742, 0.027725310404881517), (459, 0.02766961839035888), (1025, 0.027645048836175228), (1109, 0.02763763591773314), (59, 0.027625211704726423), (621, 0.027621151214981286), (566, 0.02759966068382861), (1157, 0.0275829740052771), (595, 0.027547106226325148), (997, 0.02748709921095835), (889, 0.027482155345745586), (1105, 0.027480858709241808), (145, 0.02747289502206858), (417, 0.02739090786676692), (126, 0.027382763983812165), (1181, 0.027379165553205347), (1172, 0.02737341894909032), (632, 0.02729577403688125), (1068, 0.027281877666941408), (185, 0.027244370778424034), (1115, 0.027223019314093724), (308, 0.027207932823497948), (1161, 0.027204590183855605), (405, 0.027201919250783874), (389, 0.027166992432804), (1014, 0.027164392597962505), (441, 0.027142927547496955), (509, 0.02712758653533479), (626, 0.027126087795649085), (683, 0.027077665165958057), (300, 0.026999219311175594), (198, 0.026986375597931656), (479, 0.026927698560456386), (286, 0.026910123253885605), (395, 0.026890566913440443), (4, 0.026850531310336278), (51, 0.02682401432567278), (1015, 0.026795617594486475), (988, 0.026793970779134535), (84, 0.026760125985890653), (1192, 0.026756816579486423), (476, 0.026662196625218387), (63, 0.026653234291171352), (210, 0.026590734336964465), (138, 0.026583966027164257), (315, 0.026580466883540866), (461, 0.02653487188638238), (1010, 0.0265196199788364), (587, 0.0264939452385678), (432, 0.026478767327269143), (1169, 0.026478626837630515), (884, 0.026474780309475938), (60, 0.026453171481142908), (26, 0.02636299640063382), (322, 0.0263468604882437), (494, 0.026316329695080604), (743, 0.02631235846223269), (792, 0.026284848100016106), (848, 0.026270395822007672), (648, 0.026234561068877876), (1039, 0.02615951920541054), (773, 0.026148877421490406), (89, 0.02608410449363734), (5, 0.02603030260253778), (19, 0.02601421843336329), (427, 0.02592004126977311), (668, 0.025911724338139125), (379, 0.02583563187753336), (425, 0.02582135981454036), (1040, 0.025810153792279883), (504, 0.025782330609528153), (14, 0.025732508249869206), (1075, 0.02570233408949043), (67, 0.02566736410307971), (207, 0.02564224685488435), (867, 0.02560834173661805), (1193, 0.02560378183068585), (48, 0.025597187576606825), (439, 0.025585337722001132), (172, 0.025527919518921784), (545, 0.025511035622946023), (132, 0.02544701342093886), (707, 0.02541130570630369), (1065, 0.02539902070296293), (1072, 0.02535114111801826), (652, 0.025347396687013614), (1120, 0.02533771951641604), (1088, 0.02531259129252405), (220, 0.025304349647139925), (68, 0.025274461613262654), (481, 0.025201269881786285), (180, 0.025193968005946428), (24, 0.025090288513197008), (1134, 0.02505567021430363), (228, 0.02500830534248659), (376, 0.02489785371451162), (871, 0.024893687356836863), (594, 0.024860864416576436), (204, 0.024838953948462604), (299, 0.02480122110995207), (765, 0.024794158421041136), (415, 0.024785224973207867), (216, 0.02476972811634546), (1018, 0.02476942588866552), (510, 0.024700691670172192), (872, 0.024688735557464474), (918, 0.024649508376278436), (1186, 0.02459146489975743), (1106, 0.02457740178487057), (1136, 0.024527643024580704), (1220, 0.024488862410207833), (981, 0.024469038232114642), (219, 0.024448359985329435), (38, 0.02442365429397546), (824, 0.02440580596261262), (1223, 0.024403910014852932), (142, 0.024399679248427855), (580, 0.02436565097177778), (436, 0.024356098090820365), (217, 0.024321765474024766), (492, 0.02428261149336522), (864, 0.024162057282915424), (119, 0.02414615681784392), (896, 0.024133246992351153), (939, 0.024082249927759092), (381, 0.02405083293318147), (297, 0.024049382402306925), (361, 0.024042887009379506), (87, 0.024029769574218707), (527, 0.02402408474885951), (1087, 0.02400698788096805), (629, 0.023961307981247515), (273, 0.023951779837842094), (933, 0.023921230304317757), (845, 0.023911069100222445), (747, 0.023873036585283954), (34, 0.023866808264841256), (233, 0.023847450189069107), (562, 0.023842496341460576), (345, 0.023840055608306335), (1043, 0.02379230175035206), (302, 0.023748843266462774), (385, 0.02374805373606605), (498, 0.023717768592490755), (1183, 0.02368138983924728), (993, 0.02363544084123186), (1221, 0.023609738546647444), (27, 0.02358807109141803), (493, 0.023546649027912595), (963, 0.023511967392587332), (451, 0.023494835253101976), (366, 0.023470255040259097), (589, 0.023455388853907393), (857, 0.023450120891640485), (311, 0.023444134148644387), (613, 0.023411172370514904), (640, 0.02340065332400094), (213, 0.023388487779866317), (1045, 0.023354539664126543), (950, 0.02335264617924597), (169, 0.023341874474252858), (619, 0.023318694479641022), (162, 0.023281279966019742), (261, 0.023274102739426813), (62, 0.023200767148147398), (508, 0.023164404506244816), (843, 0.02314806070767659), (139, 0.02314395948964026), (553, 0.02310607865433094), (937, 0.02309989158741734), (1004, 0.0230509304004355), (1206, 0.022994501093039223), (1182, 0.022989746697778812), (88, 0.022907196005143668), (499, 0.022831729593872477), (17, 0.022803363554890706), (650, 0.022796179840528886), (552, 0.022770159015625478), (692, 0.02272462894594473), (75, 0.022722350184171684), (44, 0.02263371657638297), (636, 0.022609441653953607), (292, 0.022566137908761226), (191, 0.02246840534543626), (886, 0.022459386438236313), (298, 0.022411594392220884), (885, 0.022356268801209642), (80, 0.022327763852683077), (1152, 0.022299952540975426), (532, 0.022267764540725717), (891, 0.022238600844785777), (1217, 0.02221543122945806), (7, 0.022161748615361996), (163, 0.022157314149970738), (1069, 0.02214916246443486), (121, 0.022142272753372688), (557, 0.022128701262998218), (735, 0.02211275634727766), (134, 0.02211218409305077), (1156, 0.021996764075615412), (1073, 0.021992608370054817), (655, 0.021960103565573992), (763, 0.021935751914853006), (404, 0.021934783586481488), (681, 0.021914896490610628), (956, 0.02187357374950662), (1095, 0.021827717677108945), (616, 0.021823575708367828), (1166, 0.021794084776562108), (898, 0.021789402589980668), (255, 0.021786801258124325), (208, 0.021769889533901632), (615, 0.021762352198457933), (47, 0.02174987265594322), (1080, 0.0217211515114216), (861, 0.021695551828932992), (544, 0.02169259349776893), (1202, 0.02168889716389993), (677, 0.021656464577366093), (109, 0.02163861091922127), (1091, 0.02163745589327587), (195, 0.02160920955222591), (249, 0.021580480391926487), (670, 0.021512446426313052), (1196, 0.021495918849581457), (149, 0.021455301461321304), (25, 0.021417695817101234), (776, 0.021413592606506344), (165, 0.02139946529666867), (791, 0.021391015670588383), (1178, 0.021361979101648613), (786, 0.0213099738193451), (882, 0.02124538810668151), (392, 0.021225382144517104), (456, 0.02117072165142614), (828, 0.021167226007294978), (688, 0.02114348411627088), (1016, 0.021129976251711716), (567, 0.02101593957056909), (1077, 0.0209543171828329), (375, 0.020948437924255145), (537, 0.020938186657020633), (732, 0.020883441426527538), (1216, 0.020852780378399733), (373, 0.020829561062401167), (740, 0.020813551327879556), (762, 0.020798873347655768), (113, 0.020706424109071673), (700, 0.020681870591824237), (333, 0.02063844794300375), (57, 0.020628080710247562), (949, 0.020621806474049015), (1035, 0.02060526285753896), (905, 0.020544185662077014), (519, 0.02051546322882497), (478, 0.020501626935315532), (767, 0.020471402293569554), (525, 0.02041010427120368), (344, 0.0204009878274923), (597, 0.020390921679035078), (387, 0.02037179994465644), (1049, 0.020349873729080634), (20, 0.02034212350748339), (406, 0.020323888161229712), (133, 0.020321086342998194), (520, 0.02030038763553679), (642, 0.020166796950606043), (271, 0.02013683653428069), (1237, 0.02012674755037286), (691, 0.020125134836427565), (917, 0.020089980011318995), (900, 0.020083978829178728), (1031, 0.020073532043528804), (599, 0.02003237149219415), (1021, 0.020010696937933826), (262, 0.019962989718549776), (454, 0.019956858578870414), (967, 0.01995321855204081), (291, 0.019952523398195626), (1234, 0.01994493971083876), (36, 0.019919571291715947), (91, 0.019919570695996442), (1107, 0.019880921111686174), (1097, 0.019865092938300657), (533, 0.019849415044486916), (757, 0.019833063572331895), (127, 0.01965519488691969), (689, 0.019654837254333153), (593, 0.019650949353118168), (524, 0.019595613597951707), (477, 0.01954431748303066), (253, 0.01953198515011502), (530, 0.019526419226696214), (718, 0.019412087293600024), (82, 0.019406620731071186), (258, 0.019398588720249625), (851, 0.019393385332628597), (794, 0.019359216020177775), (576, 0.01935146404420576), (1195, 0.01934108069283888), (641, 0.01934049493293068), (1042, 0.019267474256263885), (671, 0.019255637071736886), (1117, 0.019227599964567174), (206, 0.0192191276743219), (1231, 0.019198560548269936), (500, 0.019188125144224813), (755, 0.019081962540917773), (94, 0.01907226965516021), (528, 0.019008328593113893), (999, 0.01896384374753668), (189, 0.018920309641615438), (929, 0.01889803366254056), (699, 0.018891374790477623), (352, 0.018879849891542188), (388, 0.018868253123489647), (341, 0.018854442446802292), (904, 0.018842061649030527), (953, 0.01882673681623339), (658, 0.018795234157062062), (490, 0.01872839542349198), (678, 0.018691379631899558), (926, 0.01865671760576324), (168, 0.018630193977857465), (170, 0.01860553505725833), (22, 0.018600704835989308), (101, 0.018591787132792206), (637, 0.01855140877716551), (822, 0.018548564825926026), (649, 0.01852840964676536), (491, 0.018499160069818207), (951, 0.01847638771657039), (601, 0.018409948529535404), (1199, 0.018402996582064117), (719, 0.018384815353119636), (1083, 0.018209036285282774), (647, 0.01815620559597538), (1096, 0.0181349547227196), (758, 0.01809728977539211), (408, 0.018060768842398132), (850, 0.01805993564043009), (374, 0.018054296901520734), (391, 0.01804919480730509), (756, 0.01803334491550178), (99, 0.01801519617137221), (205, 0.01796384631388225), (984, 0.017945746510123938), (183, 0.01793149035618693), (656, 0.01790448799083086), (1233, 0.017900230405310906), (173, 0.01789274589740969), (788, 0.017890955902969782), (90, 0.017885310407128402), (446, 0.017808757173636246), (862, 0.017758768082307787), (835, 0.017749124940618973), (1119, 0.01774712775479836), (1247, 0.017742581271321663), (1212, 0.017711334299702855), (840, 0.017708838814958407), (473, 0.017704066663079634), (137, 0.0176853009079769), (184, 0.017655997832687613), (398, 0.01759155464855357), (423, 0.01757896972019747), (83, 0.017575575981979476), (1140, 0.017570156673432986), (741, 0.017537658804438493), (769, 0.017533277779903617), (631, 0.017529406678284763), (1013, 0.017521503339478797), (503, 0.017470360674669016), (1128, 0.01746539996664978), (733, 0.017438631647270605), (325, 0.0174224165382377), (136, 0.017394731257330386), (722, 0.01737934874503052), (887, 0.017379088798713426), (410, 0.017337886272545493), (893, 0.01732078194474375), (225, 0.01730472437640057), (346, 0.01725911776555093), (290, 0.017257438825445108), (254, 0.017249515227094864), (698, 0.01723328667437587), (274, 0.017183549157474477), (426, 0.017177014136028085), (283, 0.01712792779875982), (775, 0.017123960960120775), (771, 0.017120978962423906), (236, 0.01711015757086056), (270, 0.01703465139934217), (317, 0.01702252486310231), (1147, 0.017009721015633906), (1238, 0.016948089749411876), (482, 0.016933050085333422), (738, 0.016916569088997538), (276, 0.016913135397259638), (780, 0.01691302962278336), (442, 0.016908068981679993), (474, 0.016904335964898567), (318, 0.01689420639300011), (661, 0.01689378248357342), (434, 0.01689207308054142), (548, 0.0168897082608897), (453, 0.01687870784882417), (450, 0.01687167810847613), (394, 0.01687004371356082), (342, 0.01685700753002987), (590, 0.01685459688620335), (295, 0.0168229191491402), (1001, 0.016822169861508827), (304, 0.0168190185648402), (662, 0.016777137410497234), (952, 0.016764937395716415), (1173, 0.01671749622823999), (603, 0.01668271183826943), (874, 0.016651550077625664), (337, 0.016619629691373667), (130, 0.01661936610613713), (1082, 0.016607693161607793), (12, 0.016568542656681125), (854, 0.01656607500639369), (628, 0.016558024602015848), (444, 0.016551560831834608), (390, 0.01652391056744645), (709, 0.016454984360380297), (783, 0.016329748522296995), (437, 0.016313207210544443), (120, 0.016299553660240856), (338, 0.01627843271625211), (215, 0.016271507428469015), (555, 0.016270399778710688), (1070, 0.01626473967609046), (927, 0.01624071820670704), (932, 0.016216281855679388), (894, 0.016214867632347408), (680, 0.016132337634129114), (264, 0.016105081916969948), (412, 0.01608909380353963), (903, 0.016021220529316163), (558, 0.01601783178943665), (703, 0.016007264736052223), (45, 0.015924584597778235), (289, 0.01588946673318146), (1144, 0.015878094238838545), (611, 0.015857147897346144), (830, 0.015841201505549286), (684, 0.01578361413410115), (534, 0.01577219077446735), (455, 0.015759155484905443), (435, 0.01575240989555709), (682, 0.01574605905297689), (511, 0.015729010694544347), (600, 0.015728328378447214), (1008, 0.015715419645921182), (355, 0.015712549630393133), (930, 0.015678627757263978), (1219, 0.015605868652145858), (694, 0.015588015806802661), (58, 0.015581469732838771), (279, 0.015578170645107248), (853, 0.015559747687631837), (1135, 0.015544392043961288), (506, 0.015462814274023306), (610, 0.015445909084930928), (815, 0.015440755003938357), (321, 0.015373852653254179), (418, 0.01536713824753599), (440, 0.015352111727269609), (514, 0.015335618342305605), (1054, 0.015328814694112238), (795, 0.015246203427935492), (1164, 0.015223120086028798), (1027, 0.015210403958579746), (1050, 0.015189290794583053), (768, 0.015150785931026268), (112, 0.015148038502496658), (224, 0.015146170030557054), (968, 0.015093947412204115), (192, 0.015072123117753938), (1209, 0.01507102592580253), (42, 0.015065286833730004), (1133, 0.015063474234492877), (1162, 0.015050505347054684), (720, 0.01501603210702894), (806, 0.015001515956373767), (739, 0.014966775217432718), (443, 0.014933170859045145), (231, 0.014916295234476271), (203, 0.014915565544763256), (978, 0.014909081768577635), (991, 0.014836653568401104), (1190, 0.0148163727724841), (729, 0.014720332022161397), (992, 0.014685872262744893), (945, 0.01467160332725652), (660, 0.014653438197493554), (211, 0.014639304121244257), (1155, 0.01463726352046114), (842, 0.014582864409381288), (367, 0.014552710356670382), (348, 0.014527697060408021), (469, 0.014526352953273003), (125, 0.014473085383012512), (724, 0.014410555457490912), (513, 0.014398673460300923), (944, 0.014371238356552742), (651, 0.014332959604872832), (704, 0.01431926537576044), (695, 0.014309682396527227), (612, 0.014308331475632428), (326, 0.01423276732059337), (463, 0.014161039285890508), (1142, 0.014153155483607318), (466, 0.014147165020818591), (653, 0.014070854793624875), (1197, 0.014059498401311408), (1033, 0.014051067281854832), (229, 0.014034105205160727), (378, 0.014031611864111662), (1176, 0.013959223661475378), (115, 0.013927602637161234), (564, 0.01387269155981532), (803, 0.013865499919174306), (863, 0.013861387462372634), (1081, 0.013828890972231032), (1137, 0.01381713147803099), (899, 0.013658827322602412), (644, 0.013627393105469312), (447, 0.013592804100041066), (250, 0.013584727511231274), (521, 0.013579607302966711), (1177, 0.013566246092813143), (96, 0.013565583298967742), (146, 0.013536315210126396), (251, 0.013527141655610357), (516, 0.013525035256412783), (1112, 0.013507018313703113), (1143, 0.013504377885953794), (306, 0.013495406642763613), (343, 0.013484772352108145), (457, 0.013463897353797757), (407, 0.013443339704873703), (789, 0.0134413267525011), (804, 0.013437991930957814), (386, 0.01340694570341235), (105, 0.013406503710679831), (690, 0.013397796808746323), (994, 0.01339593240654044), (1141, 0.013390038686059197), (728, 0.01335022901837676), (868, 0.013271304083459376), (823, 0.013239033292476464), (66, 0.013229663347761215), (177, 0.013221899453612001), (931, 0.013214280518090234), (340, 0.013202747581566374), (990, 0.01318392745643071), (282, 0.013161712571601012), (766, 0.01313052630126551), (1002, 0.01310968880996307), (452, 0.013089587926029446), (734, 0.013079988009292512), (1125, 0.013054310316406364), (400, 0.013049347900924298), (827, 0.013034995826659816), (70, 0.013030707517747516), (954, 0.013026094301021269), (673, 0.012980042116097452), (312, 0.012978936654379436), (817, 0.012966681351109663), (1048, 0.012950683397792019), (307, 0.012936465748585481), (1103, 0.012910281419218649), (572, 0.012874352534415167), (260, 0.012849470038973935), (1028, 0.012824175379712092), (902, 0.012797745609592565), (393, 0.01278472308578873), (110, 0.012715713338884526), (1041, 0.012693358707946146), (1225, 0.012679227219564305), (976, 0.012675285250014845), (277, 0.012659772877796115), (29, 0.01265808288147004), (793, 0.01264617691761954), (800, 0.012601803412511818), (214, 0.012560515409863004), (584, 0.012537722294318304), (561, 0.012537622015215247), (247, 0.012514766872920025), (288, 0.012492900778981084), (957, 0.01248714265785071), (1006, 0.012371112426071987), (635, 0.012370776345370536), (1168, 0.0123580300510101), (93, 0.012316976579658316), (103, 0.0123032918354912), (706, 0.01221621954083397), (805, 0.012207341017561265), (202, 0.01219859437183728), (1108, 0.012146892225713316), (1000, 0.012144702913571673), (731, 0.012125051763322743), (267, 0.012120296484936793), (356, 0.012100757383650084), (880, 0.012099201861775127), (542, 0.012056682997836903), (826, 0.011975990518376216), (359, 0.011968349539133763), (921, 0.011944862627589713), (117, 0.011931667760117845), (244, 0.0119272957367706), (144, 0.011918592935291605), (486, 0.011896878122076756), (1122, 0.011876505863678343), (148, 0.011849540262039078), (1126, 0.01184543474833845), (550, 0.011841280183415216), (571, 0.011824681736616037), (323, 0.011821174524743443), (959, 0.011785971302563812), (467, 0.011769938155364163), (227, 0.01173109043505819), (643, 0.011691584989275803), (1185, 0.011654979230199435), (294, 0.0116492291187389), (1214, 0.011647850990293925), (966, 0.011607295062683144), (958, 0.011601914708769307), (515, 0.011562357983904998), (1100, 0.011554643607628201), (265, 0.011543921903311228), (460, 0.011540399852284318), (764, 0.011515773713435184), (240, 0.01146554262655853), (934, 0.011415494144154494), (354, 0.011359151600799304), (865, 0.011322490220324877), (1175, 0.011294701831040012), (371, 0.01129117784714796), (989, 0.01124232206563891), (608, 0.011188862679263988), (784, 0.011144180519489906), (186, 0.011131698729414899), (55, 0.01098780690237081), (61, 0.010980456868018573), (65, 0.01092433188292474), (955, 0.010914927999688103), (818, 0.010851574637847018), (480, 0.010849280877347597), (761, 0.010842524621813182), (979, 0.010831783127157697), (1235, 0.010831028823005469), (832, 0.010830347290468363), (605, 0.010822841154903843), (982, 0.010756596917949252), (943, 0.010756539648760811), (194, 0.010728052348668598), (1085, 0.01068829984418091), (167, 0.010683003259412639), (422, 0.010679650736617537), (796, 0.01066767588780418), (429, 0.010653212584309204), (772, 0.010620235114948636), (1200, 0.010549113728893306), (879, 0.010528810408555012), (665, 0.010499551159524492), (829, 0.010469235963533568), (275, 0.010462458043844046), (925, 0.01044527198637686), (1222, 0.010382110813398598), (919, 0.010364775951498647), (223, 0.010345476806013915), (377, 0.010258379904660614), (347, 0.01025755595988187), (983, 0.010253625371719168), (598, 0.010224409927298691), (910, 0.01020256935572469), (1151, 0.010151750582045378), (541, 0.01014525906422557), (664, 0.010075296000621908), (382, 0.01004408514061159), (472, 0.00998593932457987), (565, 0.009972069376196336), (517, 0.009934453622534437), (831, 0.00987170102450666), (586, 0.009808513022569722), (179, 0.00975414250230273), (585, 0.009717044894305112), (1011, 0.00966521876076235), (309, 0.009647544035678579), (187, 0.009627967025217376), (1022, 0.009600858944894184), (1211, 0.00953436129729406), (935, 0.009469222808114932), (970, 0.009420953498177335), (1036, 0.009402242992158095), (1005, 0.00933114018280219), (1024, 0.009311268060907594), (659, 0.009303893771821255), (349, 0.009297216696000006), (1020, 0.009294506678800345), (1150, 0.009292665343291843), (1055, 0.00926885891428517), (618, 0.009229248704946827), (218, 0.00919889390518692), (801, 0.009017588495037952), (495, 0.008824402621805384), (18, 0.008802744865562463), (1129, 0.008795409044337198), (182, 0.00877806062966308), (8, 0.008760806196944847), (836, 0.008754868484768938), (617, 0.00874035788181497), (339, 0.008702756134381756), (687, 0.008596760643408283), (774, 0.00857607216368489), (98, 0.008572823495267657), (1046, 0.008567850575795484), (591, 0.008563111220554503), (604, 0.008559861617443052), (875, 0.008559624515483265), (3, 0.008543027574379983), (559, 0.00845316922905891), (913, 0.008442275326961025), (106, 0.008332335509806959), (888, 0.00832560197872141), (705, 0.008308636959176264), (569, 0.008307446572650857), (501, 0.008249777789073773), (1084, 0.008198856863427308), (839, 0.00803472316359565), (657, 0.008033806831329994), (1158, 0.00797133868370575), (960, 0.007969983931134005), (305, 0.007945240761418391), (1052, 0.007908989498194113), (923, 0.0078616064112317), (838, 0.007835721625913682), (245, 0.007822166387658747), (155, 0.007785482436937467), (730, 0.0077637940247531545), (175, 0.0077625347865883125), (588, 0.007719017758561852), (1058, 0.007712094459006691), (403, 0.007612275935957709), (1138, 0.007587293562262422), (1228, 0.0075294786484970296), (936, 0.007528401096872818), (1246, 0.007428020430260439), (1037, 0.007393482637643643), (1226, 0.007387042948912837), (846, 0.007363166356902288), (496, 0.0073401489477361425), (241, 0.007311910839783898), (13, 0.007285273768992565), (539, 0.007253766847538564), (1170, 0.007234130247403413), (1154, 0.007196506358980374), (1165, 0.007124942915831673), (551, 0.007117454226756869), (672, 0.007107492315260124), (531, 0.007107485619410452), (727, 0.007107137963573377), (416, 0.006997870120935254), (320, 0.006994192012247104), (1242, 0.00697589212397713), (314, 0.006966566265616499), (928, 0.006922107016571056), (667, 0.006884181200359726), (1032, 0.006801427621880867), (639, 0.006736044462963701), (1243, 0.00673433245609342), (987, 0.006725535006325895), (1203, 0.0066087484596249095), (714, 0.006425106816567756), (176, 0.006379259857390445), (353, 0.006375969072503611), (770, 0.006291192811644768), (638, 0.006114002171392966), (159, 0.006093109200557301), (201, 0.0060600251482360685), (153, 0.006029342198495927), (124, 0.006004796832629801), (573, 0.005999713833916805), (178, 0.005877490531594915), (15, 0.005809217768647441), (209, 0.005700865794612127), (841, 0.0056764881777964515), (360, 0.005618945794146533), (723, 0.005607026532387907), (609, 0.005571110694891081), (1057, 0.005558162617306598), (627, 0.005556396200358642), (475, 0.0055208322609195315), (488, 0.005426943735431599), (212, 0.005420796496045875), (856, 0.005384391295087325), (892, 0.005337147570110799), (1167, 0.005296195215107366), (1053, 0.0052398993987189165), (234, 0.005190001339177904), (986, 0.005120998227039096), (462, 0.005114203021143305), (147, 0.005003147334392769), (1227, 0.0047700440388328625), (331, 0.00468286648527855), (1064, 0.004625011793008784), (1104, 0.004477533675650103), (965, 0.004464263862816858), (365, 0.004150224775672364), (543, 0.004122948202190332), (614, 0.0038860272851560466), (574, 0.0038372272617907916), (522, 0.003650258158573756), (570, 0.0036261922677336862), (701, 0.0032797607080812348), (1023, 0.0031823441475950964), (860, 0.002910294425544863), (97, 0.002690063897922005), (560, 0.0026707198313252693), (1215, 0.002588810164617634), (634, 0.0023330805030385908), (802, 0.0023077545600858358), (669, 0.002150856032012374), (242, 0.002068888474352896), (592, 0.0018462393746787357), (409, 0.0015435852717342988), (972, 0.0015013862424878943), (157, 0.001404012905325973), (1017, 0.0009320666817372615), (330, 0.0007226052530410518)]\n"
     ]
    }
   ],
   "source": [
    "print(sorted_sim)"
   ]
  },
  {
   "cell_type": "markdown",
   "id": "179ad8fd",
   "metadata": {},
   "source": [
    "# Extracting top 5 Similar Books"
   ]
  },
  {
   "cell_type": "code",
   "execution_count": 77,
   "id": "acc103d6",
   "metadata": {},
   "outputs": [],
   "source": [
    "i = 1\n",
    "l = []\n",
    "for book in sorted_sim:\n",
    "    index = book[0]\n",
    "    l.append(index)\n",
    "    i+=1;\n",
    "    if i > 6:\n",
    "        break"
   ]
  },
  {
   "cell_type": "code",
   "execution_count": 78,
   "id": "380819fe",
   "metadata": {},
   "outputs": [
    {
     "name": "stdout",
     "output_type": "stream",
     "text": [
      "[30, 431, 166, 1101, 1189, 1230]\n"
     ]
    }
   ],
   "source": [
    "print(l)"
   ]
  },
  {
   "cell_type": "markdown",
   "id": "ab63c5d6",
   "metadata": {},
   "source": [
    "# Finished Result"
   ]
  },
  {
   "cell_type": "code",
   "execution_count": 79,
   "id": "a94ab4c7",
   "metadata": {},
   "outputs": [
    {
     "name": "stdout",
     "output_type": "stream",
     "text": [
      "Books suggested for you: \n",
      "\n",
      "Chosen Book: Gravity\n",
      "Collide\n",
      "Hover\n",
      "Enemy Within\n",
      "Imprisoned\n",
      "Crash\n"
     ]
    }
   ],
   "source": [
    "print('Books suggested for you:','\\n')\n",
    "r = 0\n",
    "for i in l:\n",
    "    if r == 0:\n",
    "        print('Chosen Book: ',end=\"\")\n",
    "        r+=1\n",
    "    print(books_data.iloc[i][0])"
   ]
  },
  {
   "cell_type": "markdown",
   "id": "e564fd66",
   "metadata": {},
   "source": [
    "# Pickle Dump"
   ]
  },
  {
   "cell_type": "code",
   "execution_count": 67,
   "id": "6abefc2f",
   "metadata": {},
   "outputs": [],
   "source": [
    "pickle.dump(books_data.to_dict(), open('books.pkl','wb'))"
   ]
  },
  {
   "cell_type": "code",
   "execution_count": 68,
   "id": "30414659",
   "metadata": {},
   "outputs": [],
   "source": [
    "pickle.dump(similarity, open('similarity.pkl','wb'))"
   ]
  }
 ],
 "metadata": {
  "kernelspec": {
   "display_name": "Python 3 (ipykernel)",
   "language": "python",
   "name": "python3"
  },
  "language_info": {
   "codemirror_mode": {
    "name": "ipython",
    "version": 3
   },
   "file_extension": ".py",
   "mimetype": "text/x-python",
   "name": "python",
   "nbconvert_exporter": "python",
   "pygments_lexer": "ipython3",
   "version": "3.10.2"
  }
 },
 "nbformat": 4,
 "nbformat_minor": 5
}
